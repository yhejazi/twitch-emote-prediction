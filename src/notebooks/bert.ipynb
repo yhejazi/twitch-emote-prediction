{
  "cells": [
    {
      "cell_type": "markdown",
      "metadata": {
        "id": "tVYcPAvZncUd"
      },
      "source": [
        "# W266 Final Project Modeling\n",
        "In this notebook, I implement the fine-tuned BERT model described in *Twitch Emote Prediction: Extensions and Benchmarking using Transformers*.\n",
        "\n",
        "## 1. Setup\n",
        "First, import libraries & data"
      ]
    },
    {
      "cell_type": "code",
      "source": [
        "# Import libraries\n",
        "from google.colab import files\n",
        "import io\n",
        "import pandas as pd\n",
        "import numpy as np\n",
        "from sklearn.preprocessing import LabelEncoder\n",
        "from sklearn.model_selection import train_test_split\n",
        "from sklearn.metrics import roc_auc_score, accuracy_score, precision_score, recall_score, f1_score, classification_report\n",
        "\n",
        "import tensorflow as tf\n",
        "from tensorflow import keras\n",
        "from tensorflow.keras import layers\n",
        "\n",
        "\n",
        "import nltk\n",
        "from nltk.data import find"
      ],
      "metadata": {
        "id": "sZMYefBt_AmS"
      },
      "execution_count": 1,
      "outputs": []
    },
    {
      "cell_type": "code",
      "source": [
        "# Read the data\n",
        "uploaded = files.upload()"
      ],
      "metadata": {
        "colab": {
          "base_uri": "https://localhost:8080/",
          "height": 74
        },
        "id": "bCqRHzHN_CBq",
        "outputId": "29b247b1-0dbb-44ef-e540-160c8a1c45bf"
      },
      "execution_count": 2,
      "outputs": [
        {
          "output_type": "display_data",
          "data": {
            "text/plain": [
              "<IPython.core.display.HTML object>"
            ],
            "text/html": [
              "\n",
              "     <input type=\"file\" id=\"files-67c7f5c9-4a27-4706-9190-544be3efa93d\" name=\"files[]\" multiple disabled\n",
              "        style=\"border:none\" />\n",
              "     <output id=\"result-67c7f5c9-4a27-4706-9190-544be3efa93d\">\n",
              "      Upload widget is only available when the cell has been executed in the\n",
              "      current browser session. Please rerun this cell to enable.\n",
              "      </output>\n",
              "      <script>// Copyright 2017 Google LLC\n",
              "//\n",
              "// Licensed under the Apache License, Version 2.0 (the \"License\");\n",
              "// you may not use this file except in compliance with the License.\n",
              "// You may obtain a copy of the License at\n",
              "//\n",
              "//      http://www.apache.org/licenses/LICENSE-2.0\n",
              "//\n",
              "// Unless required by applicable law or agreed to in writing, software\n",
              "// distributed under the License is distributed on an \"AS IS\" BASIS,\n",
              "// WITHOUT WARRANTIES OR CONDITIONS OF ANY KIND, either express or implied.\n",
              "// See the License for the specific language governing permissions and\n",
              "// limitations under the License.\n",
              "\n",
              "/**\n",
              " * @fileoverview Helpers for google.colab Python module.\n",
              " */\n",
              "(function(scope) {\n",
              "function span(text, styleAttributes = {}) {\n",
              "  const element = document.createElement('span');\n",
              "  element.textContent = text;\n",
              "  for (const key of Object.keys(styleAttributes)) {\n",
              "    element.style[key] = styleAttributes[key];\n",
              "  }\n",
              "  return element;\n",
              "}\n",
              "\n",
              "// Max number of bytes which will be uploaded at a time.\n",
              "const MAX_PAYLOAD_SIZE = 100 * 1024;\n",
              "\n",
              "function _uploadFiles(inputId, outputId) {\n",
              "  const steps = uploadFilesStep(inputId, outputId);\n",
              "  const outputElement = document.getElementById(outputId);\n",
              "  // Cache steps on the outputElement to make it available for the next call\n",
              "  // to uploadFilesContinue from Python.\n",
              "  outputElement.steps = steps;\n",
              "\n",
              "  return _uploadFilesContinue(outputId);\n",
              "}\n",
              "\n",
              "// This is roughly an async generator (not supported in the browser yet),\n",
              "// where there are multiple asynchronous steps and the Python side is going\n",
              "// to poll for completion of each step.\n",
              "// This uses a Promise to block the python side on completion of each step,\n",
              "// then passes the result of the previous step as the input to the next step.\n",
              "function _uploadFilesContinue(outputId) {\n",
              "  const outputElement = document.getElementById(outputId);\n",
              "  const steps = outputElement.steps;\n",
              "\n",
              "  const next = steps.next(outputElement.lastPromiseValue);\n",
              "  return Promise.resolve(next.value.promise).then((value) => {\n",
              "    // Cache the last promise value to make it available to the next\n",
              "    // step of the generator.\n",
              "    outputElement.lastPromiseValue = value;\n",
              "    return next.value.response;\n",
              "  });\n",
              "}\n",
              "\n",
              "/**\n",
              " * Generator function which is called between each async step of the upload\n",
              " * process.\n",
              " * @param {string} inputId Element ID of the input file picker element.\n",
              " * @param {string} outputId Element ID of the output display.\n",
              " * @return {!Iterable<!Object>} Iterable of next steps.\n",
              " */\n",
              "function* uploadFilesStep(inputId, outputId) {\n",
              "  const inputElement = document.getElementById(inputId);\n",
              "  inputElement.disabled = false;\n",
              "\n",
              "  const outputElement = document.getElementById(outputId);\n",
              "  outputElement.innerHTML = '';\n",
              "\n",
              "  const pickedPromise = new Promise((resolve) => {\n",
              "    inputElement.addEventListener('change', (e) => {\n",
              "      resolve(e.target.files);\n",
              "    });\n",
              "  });\n",
              "\n",
              "  const cancel = document.createElement('button');\n",
              "  inputElement.parentElement.appendChild(cancel);\n",
              "  cancel.textContent = 'Cancel upload';\n",
              "  const cancelPromise = new Promise((resolve) => {\n",
              "    cancel.onclick = () => {\n",
              "      resolve(null);\n",
              "    };\n",
              "  });\n",
              "\n",
              "  // Wait for the user to pick the files.\n",
              "  const files = yield {\n",
              "    promise: Promise.race([pickedPromise, cancelPromise]),\n",
              "    response: {\n",
              "      action: 'starting',\n",
              "    }\n",
              "  };\n",
              "\n",
              "  cancel.remove();\n",
              "\n",
              "  // Disable the input element since further picks are not allowed.\n",
              "  inputElement.disabled = true;\n",
              "\n",
              "  if (!files) {\n",
              "    return {\n",
              "      response: {\n",
              "        action: 'complete',\n",
              "      }\n",
              "    };\n",
              "  }\n",
              "\n",
              "  for (const file of files) {\n",
              "    const li = document.createElement('li');\n",
              "    li.append(span(file.name, {fontWeight: 'bold'}));\n",
              "    li.append(span(\n",
              "        `(${file.type || 'n/a'}) - ${file.size} bytes, ` +\n",
              "        `last modified: ${\n",
              "            file.lastModifiedDate ? file.lastModifiedDate.toLocaleDateString() :\n",
              "                                    'n/a'} - `));\n",
              "    const percent = span('0% done');\n",
              "    li.appendChild(percent);\n",
              "\n",
              "    outputElement.appendChild(li);\n",
              "\n",
              "    const fileDataPromise = new Promise((resolve) => {\n",
              "      const reader = new FileReader();\n",
              "      reader.onload = (e) => {\n",
              "        resolve(e.target.result);\n",
              "      };\n",
              "      reader.readAsArrayBuffer(file);\n",
              "    });\n",
              "    // Wait for the data to be ready.\n",
              "    let fileData = yield {\n",
              "      promise: fileDataPromise,\n",
              "      response: {\n",
              "        action: 'continue',\n",
              "      }\n",
              "    };\n",
              "\n",
              "    // Use a chunked sending to avoid message size limits. See b/62115660.\n",
              "    let position = 0;\n",
              "    do {\n",
              "      const length = Math.min(fileData.byteLength - position, MAX_PAYLOAD_SIZE);\n",
              "      const chunk = new Uint8Array(fileData, position, length);\n",
              "      position += length;\n",
              "\n",
              "      const base64 = btoa(String.fromCharCode.apply(null, chunk));\n",
              "      yield {\n",
              "        response: {\n",
              "          action: 'append',\n",
              "          file: file.name,\n",
              "          data: base64,\n",
              "        },\n",
              "      };\n",
              "\n",
              "      let percentDone = fileData.byteLength === 0 ?\n",
              "          100 :\n",
              "          Math.round((position / fileData.byteLength) * 100);\n",
              "      percent.textContent = `${percentDone}% done`;\n",
              "\n",
              "    } while (position < fileData.byteLength);\n",
              "  }\n",
              "\n",
              "  // All done.\n",
              "  yield {\n",
              "    response: {\n",
              "      action: 'complete',\n",
              "    }\n",
              "  };\n",
              "}\n",
              "\n",
              "scope.google = scope.google || {};\n",
              "scope.google.colab = scope.google.colab || {};\n",
              "scope.google.colab._files = {\n",
              "  _uploadFiles,\n",
              "  _uploadFilesContinue,\n",
              "};\n",
              "})(self);\n",
              "</script> "
            ]
          },
          "metadata": {}
        },
        {
          "output_type": "stream",
          "name": "stdout",
          "text": [
            "Saving top_30_emotes.csv to top_30_emotes.csv\n"
          ]
        }
      ]
    },
    {
      "cell_type": "code",
      "source": [
        "df = pd.read_csv(io.BytesIO(uploaded['top_30_emotes.csv']))\n",
        "df.rename(columns={\"label\": \"label_name\"}, inplace=True)\n",
        "df.head(5)"
      ],
      "metadata": {
        "colab": {
          "base_uri": "https://localhost:8080/",
          "height": 549
        },
        "id": "0YLWa4i5_CEg",
        "outputId": "4bd7a21d-d771-45b0-ae47-fbc15728bd04"
      },
      "execution_count": 3,
      "outputs": [
        {
          "output_type": "stream",
          "name": "stderr",
          "text": [
            "<ipython-input-3-5366ad058dd5>:1: DtypeWarning: Columns (0) have mixed types. Specify dtype option on import or set low_memory=False.\n",
            "  df = pd.read_csv(io.BytesIO(uploaded['top_30_emotes.csv']))\n"
          ]
        },
        {
          "output_type": "execute_result",
          "data": {
            "text/plain": [
              "  commenter_id commenter_name user_type              message_time  \\\n",
              "0   23261972.0          qrass      User  2023-03-11T18:05:21.218Z   \n",
              "1  160455408.0      moby_drip      User  2023-03-11T18:05:42.405Z   \n",
              "2   39897326.0       charmiee      User  2023-03-11T18:06:01.633Z   \n",
              "3  115717981.0       just__ok      User  2023-03-11T18:06:31.622Z   \n",
              "4   28841240.0       Karaszan      User  2023-03-11T18:06:53.793Z   \n",
              "\n",
              "          message_type    streamer            video_date    video_id  \\\n",
              "0  VideoCommentMessage  sodapoppin  2023-03-11T18:05:06Z  1762238696   \n",
              "1  VideoCommentMessage  sodapoppin  2023-03-11T18:05:06Z  1762238696   \n",
              "2  VideoCommentMessage  sodapoppin  2023-03-11T18:05:06Z  1762238696   \n",
              "3  VideoCommentMessage  sodapoppin  2023-03-11T18:05:06Z  1762238696   \n",
              "4  VideoCommentMessage  sodapoppin  2023-03-11T18:05:06Z  1762238696   \n",
              "\n",
              "   message_length                                            message  \\\n",
              "0               3                            no skipper stream Sadge   \n",
              "1               4                         3 second skippy stream Pog   \n",
              "2               8          u got the wrong channel at first mate LUL   \n",
              "3               4                       Sadge not at streamer awards   \n",
              "4              10  Is it real this time? @sodapoppin :D No Stream...   \n",
              "\n",
              "                                               input label_name  \n",
              "0                                 no skipper stream       Sadge  \n",
              "1                            3 second skippy stream         Pog  \n",
              "2             u got the wrong channel at first mate         LUL  \n",
              "3                             not at streamer awards      Sadge  \n",
              "4  Is it real this time? @sodapoppin :D No Stream...      Sadge  "
            ],
            "text/html": [
              "\n",
              "  <div id=\"df-4a6a8f33-6473-434e-9e10-93ae9481729d\">\n",
              "    <div class=\"colab-df-container\">\n",
              "      <div>\n",
              "<style scoped>\n",
              "    .dataframe tbody tr th:only-of-type {\n",
              "        vertical-align: middle;\n",
              "    }\n",
              "\n",
              "    .dataframe tbody tr th {\n",
              "        vertical-align: top;\n",
              "    }\n",
              "\n",
              "    .dataframe thead th {\n",
              "        text-align: right;\n",
              "    }\n",
              "</style>\n",
              "<table border=\"1\" class=\"dataframe\">\n",
              "  <thead>\n",
              "    <tr style=\"text-align: right;\">\n",
              "      <th></th>\n",
              "      <th>commenter_id</th>\n",
              "      <th>commenter_name</th>\n",
              "      <th>user_type</th>\n",
              "      <th>message_time</th>\n",
              "      <th>message_type</th>\n",
              "      <th>streamer</th>\n",
              "      <th>video_date</th>\n",
              "      <th>video_id</th>\n",
              "      <th>message_length</th>\n",
              "      <th>message</th>\n",
              "      <th>input</th>\n",
              "      <th>label_name</th>\n",
              "    </tr>\n",
              "  </thead>\n",
              "  <tbody>\n",
              "    <tr>\n",
              "      <th>0</th>\n",
              "      <td>23261972.0</td>\n",
              "      <td>qrass</td>\n",
              "      <td>User</td>\n",
              "      <td>2023-03-11T18:05:21.218Z</td>\n",
              "      <td>VideoCommentMessage</td>\n",
              "      <td>sodapoppin</td>\n",
              "      <td>2023-03-11T18:05:06Z</td>\n",
              "      <td>1762238696</td>\n",
              "      <td>3</td>\n",
              "      <td>no skipper stream Sadge</td>\n",
              "      <td>no skipper stream</td>\n",
              "      <td>Sadge</td>\n",
              "    </tr>\n",
              "    <tr>\n",
              "      <th>1</th>\n",
              "      <td>160455408.0</td>\n",
              "      <td>moby_drip</td>\n",
              "      <td>User</td>\n",
              "      <td>2023-03-11T18:05:42.405Z</td>\n",
              "      <td>VideoCommentMessage</td>\n",
              "      <td>sodapoppin</td>\n",
              "      <td>2023-03-11T18:05:06Z</td>\n",
              "      <td>1762238696</td>\n",
              "      <td>4</td>\n",
              "      <td>3 second skippy stream Pog</td>\n",
              "      <td>3 second skippy stream</td>\n",
              "      <td>Pog</td>\n",
              "    </tr>\n",
              "    <tr>\n",
              "      <th>2</th>\n",
              "      <td>39897326.0</td>\n",
              "      <td>charmiee</td>\n",
              "      <td>User</td>\n",
              "      <td>2023-03-11T18:06:01.633Z</td>\n",
              "      <td>VideoCommentMessage</td>\n",
              "      <td>sodapoppin</td>\n",
              "      <td>2023-03-11T18:05:06Z</td>\n",
              "      <td>1762238696</td>\n",
              "      <td>8</td>\n",
              "      <td>u got the wrong channel at first mate LUL</td>\n",
              "      <td>u got the wrong channel at first mate</td>\n",
              "      <td>LUL</td>\n",
              "    </tr>\n",
              "    <tr>\n",
              "      <th>3</th>\n",
              "      <td>115717981.0</td>\n",
              "      <td>just__ok</td>\n",
              "      <td>User</td>\n",
              "      <td>2023-03-11T18:06:31.622Z</td>\n",
              "      <td>VideoCommentMessage</td>\n",
              "      <td>sodapoppin</td>\n",
              "      <td>2023-03-11T18:05:06Z</td>\n",
              "      <td>1762238696</td>\n",
              "      <td>4</td>\n",
              "      <td>Sadge not at streamer awards</td>\n",
              "      <td>not at streamer awards</td>\n",
              "      <td>Sadge</td>\n",
              "    </tr>\n",
              "    <tr>\n",
              "      <th>4</th>\n",
              "      <td>28841240.0</td>\n",
              "      <td>Karaszan</td>\n",
              "      <td>User</td>\n",
              "      <td>2023-03-11T18:06:53.793Z</td>\n",
              "      <td>VideoCommentMessage</td>\n",
              "      <td>sodapoppin</td>\n",
              "      <td>2023-03-11T18:05:06Z</td>\n",
              "      <td>1762238696</td>\n",
              "      <td>10</td>\n",
              "      <td>Is it real this time? @sodapoppin :D No Stream...</td>\n",
              "      <td>Is it real this time? @sodapoppin :D No Stream...</td>\n",
              "      <td>Sadge</td>\n",
              "    </tr>\n",
              "  </tbody>\n",
              "</table>\n",
              "</div>\n",
              "      <button class=\"colab-df-convert\" onclick=\"convertToInteractive('df-4a6a8f33-6473-434e-9e10-93ae9481729d')\"\n",
              "              title=\"Convert this dataframe to an interactive table.\"\n",
              "              style=\"display:none;\">\n",
              "        \n",
              "  <svg xmlns=\"http://www.w3.org/2000/svg\" height=\"24px\"viewBox=\"0 0 24 24\"\n",
              "       width=\"24px\">\n",
              "    <path d=\"M0 0h24v24H0V0z\" fill=\"none\"/>\n",
              "    <path d=\"M18.56 5.44l.94 2.06.94-2.06 2.06-.94-2.06-.94-.94-2.06-.94 2.06-2.06.94zm-11 1L8.5 8.5l.94-2.06 2.06-.94-2.06-.94L8.5 2.5l-.94 2.06-2.06.94zm10 10l.94 2.06.94-2.06 2.06-.94-2.06-.94-.94-2.06-.94 2.06-2.06.94z\"/><path d=\"M17.41 7.96l-1.37-1.37c-.4-.4-.92-.59-1.43-.59-.52 0-1.04.2-1.43.59L10.3 9.45l-7.72 7.72c-.78.78-.78 2.05 0 2.83L4 21.41c.39.39.9.59 1.41.59.51 0 1.02-.2 1.41-.59l7.78-7.78 2.81-2.81c.8-.78.8-2.07 0-2.86zM5.41 20L4 18.59l7.72-7.72 1.47 1.35L5.41 20z\"/>\n",
              "  </svg>\n",
              "      </button>\n",
              "      \n",
              "  <style>\n",
              "    .colab-df-container {\n",
              "      display:flex;\n",
              "      flex-wrap:wrap;\n",
              "      gap: 12px;\n",
              "    }\n",
              "\n",
              "    .colab-df-convert {\n",
              "      background-color: #E8F0FE;\n",
              "      border: none;\n",
              "      border-radius: 50%;\n",
              "      cursor: pointer;\n",
              "      display: none;\n",
              "      fill: #1967D2;\n",
              "      height: 32px;\n",
              "      padding: 0 0 0 0;\n",
              "      width: 32px;\n",
              "    }\n",
              "\n",
              "    .colab-df-convert:hover {\n",
              "      background-color: #E2EBFA;\n",
              "      box-shadow: 0px 1px 2px rgba(60, 64, 67, 0.3), 0px 1px 3px 1px rgba(60, 64, 67, 0.15);\n",
              "      fill: #174EA6;\n",
              "    }\n",
              "\n",
              "    [theme=dark] .colab-df-convert {\n",
              "      background-color: #3B4455;\n",
              "      fill: #D2E3FC;\n",
              "    }\n",
              "\n",
              "    [theme=dark] .colab-df-convert:hover {\n",
              "      background-color: #434B5C;\n",
              "      box-shadow: 0px 1px 3px 1px rgba(0, 0, 0, 0.15);\n",
              "      filter: drop-shadow(0px 1px 2px rgba(0, 0, 0, 0.3));\n",
              "      fill: #FFFFFF;\n",
              "    }\n",
              "  </style>\n",
              "\n",
              "      <script>\n",
              "        const buttonEl =\n",
              "          document.querySelector('#df-4a6a8f33-6473-434e-9e10-93ae9481729d button.colab-df-convert');\n",
              "        buttonEl.style.display =\n",
              "          google.colab.kernel.accessAllowed ? 'block' : 'none';\n",
              "\n",
              "        async function convertToInteractive(key) {\n",
              "          const element = document.querySelector('#df-4a6a8f33-6473-434e-9e10-93ae9481729d');\n",
              "          const dataTable =\n",
              "            await google.colab.kernel.invokeFunction('convertToInteractive',\n",
              "                                                     [key], {});\n",
              "          if (!dataTable) return;\n",
              "\n",
              "          const docLinkHtml = 'Like what you see? Visit the ' +\n",
              "            '<a target=\"_blank\" href=https://colab.research.google.com/notebooks/data_table.ipynb>data table notebook</a>'\n",
              "            + ' to learn more about interactive tables.';\n",
              "          element.innerHTML = '';\n",
              "          dataTable['output_type'] = 'display_data';\n",
              "          await google.colab.output.renderOutput(dataTable, element);\n",
              "          const docLink = document.createElement('div');\n",
              "          docLink.innerHTML = docLinkHtml;\n",
              "          element.appendChild(docLink);\n",
              "        }\n",
              "      </script>\n",
              "    </div>\n",
              "  </div>\n",
              "  "
            ]
          },
          "metadata": {},
          "execution_count": 3
        }
      ]
    },
    {
      "cell_type": "markdown",
      "source": [
        "## Data Preprocessing\n",
        "- Lower case text (already experimented with keeping case in BERT and it wasn't improving the performance, but could do further experimentation with extended vocabulary)\n",
        "- String index labels\n",
        "- Train/test & train/validation splits"
      ],
      "metadata": {
        "id": "NQFaG15uph37"
      }
    },
    {
      "cell_type": "code",
      "source": [
        "emote_counts = df[['label_name']].groupby(['label_name'])['label_name'] \\\n",
        "                             .count() \\\n",
        "                             .reset_index(name='count') \\\n",
        "                             .sort_values(['count'], ascending=False)\n",
        "\n",
        "df = pd.merge(df, emote_counts, on=\"label_name\")"
      ],
      "metadata": {
        "id": "9wEc8rPQ_CHU"
      },
      "execution_count": 4,
      "outputs": []
    },
    {
      "cell_type": "code",
      "source": [
        "# Lower case input column\n",
        "df['input'] = df['input'].str.lower()\n",
        "\n",
        "# String index the label names\n",
        "le = LabelEncoder()\n",
        "df['label'] = le.fit_transform(df['label_name'])\n",
        "\n",
        "# You can reverse this encoding: le.inverse_transform([9, 10, 1, 2])\n",
        "target_names = le.inverse_transform(range(30))\n",
        "print(target_names)"
      ],
      "metadata": {
        "colab": {
          "base_uri": "https://localhost:8080/"
        },
        "id": "RDawKvdj_KGN",
        "outputId": "933d6975-962f-45a3-f44d-339a6abf9e8d"
      },
      "execution_count": 5,
      "outputs": [
        {
          "output_type": "stream",
          "name": "stdout",
          "text": [
            "['4Head' '4Weird' '5Head' 'AYAYA' 'BibleThump' 'DansGame' 'FailFish'\n",
            " 'FeelsBadMan' 'FeelsGoodMan' 'KEKW' 'Kappa' 'Kreygasm' 'LUL'\n",
            " 'MorphinTime' 'NotLikeThis' 'PauseChamp' 'PepeLaugh' 'Pepega' 'Pog'\n",
            " 'PogChamp' 'PogU' 'ResidentSleeper' 'Sadge' 'SwiftRage' 'TriHard'\n",
            " 'WeirdChamp' 'YEP' 'gachiBASS' 'monkaOMEGA' 'widepeepoHappy']\n"
          ]
        }
      ]
    },
    {
      "cell_type": "code",
      "source": [
        "messages = df.input\n",
        "labels = df.label\n",
        "# Split into train & test\n",
        "train_texts, test_texts, train_labels, test_labels = train_test_split(messages, labels, test_size=0.2, random_state=123)\n",
        "print(len(train_texts))\n",
        "print(len(test_texts))"
      ],
      "metadata": {
        "colab": {
          "base_uri": "https://localhost:8080/"
        },
        "id": "R0KllV01_KI2",
        "outputId": "b9a14b63-495c-461e-c2f0-96a64f0dd7c3"
      },
      "execution_count": 6,
      "outputs": [
        {
          "output_type": "stream",
          "name": "stdout",
          "text": [
            "687016\n",
            "171754\n"
          ]
        }
      ]
    },
    {
      "cell_type": "code",
      "source": [
        "train_texts[:5]"
      ],
      "metadata": {
        "colab": {
          "base_uri": "https://localhost:8080/"
        },
        "id": "NJtmM6ZZ_KMM",
        "outputId": "1cc8f4cf-a2ff-4bfa-a578-0aa82d6d5094"
      },
      "execution_count": 7,
      "outputs": [
        {
          "output_type": "execute_result",
          "data": {
            "text/plain": [
              "321220     @kali8000, you dont have any points to roulette \n",
              "792127                               blahspam13,  hi bestie\n",
              "343906     eu still awake  eu still awake  eu still awak...\n",
              "823620     spam  this  static  to  help  fnatic   spam  ...\n",
              "248424    bunch of little guys saying heavyweights get t...\n",
              "Name: input, dtype: object"
            ]
          },
          "metadata": {},
          "execution_count": 7
        }
      ]
    },
    {
      "cell_type": "code",
      "source": [
        "train_labels[:5]"
      ],
      "metadata": {
        "colab": {
          "base_uri": "https://localhost:8080/"
        },
        "id": "p86vqz5H_KOd",
        "outputId": "3ebfa946-690d-415c-cfaa-0af4ad78497a"
      },
      "execution_count": 8,
      "outputs": [
        {
          "output_type": "execute_result",
          "data": {
            "text/plain": [
              "321220     7\n",
              "792127    29\n",
              "343906     7\n",
              "823620    13\n",
              "248424    12\n",
              "Name: label, dtype: int64"
            ]
          },
          "metadata": {},
          "execution_count": 8
        }
      ]
    },
    {
      "cell_type": "markdown",
      "metadata": {
        "id": "ri90OyWmYNg_"
      },
      "source": [
        "Let's explicitly set aside part of our training set for validation purposes.\n",
        "\n"
      ]
    },
    {
      "cell_type": "code",
      "source": [
        "# Validation split is about 85/15 split\n",
        "valid_texts = train_texts[600000:] \n",
        "valid_labels = train_labels[600000:]\n",
        "train_texts = train_texts[:600000]\n",
        "train_labels = train_labels[:600000]\n",
        "\n",
        "print(len(train_texts)) # Always 600,000\n",
        "print(len(valid_texts)) # 87016"
      ],
      "metadata": {
        "colab": {
          "base_uri": "https://localhost:8080/"
        },
        "id": "0MvGBrn0_Ytr",
        "outputId": "828246dc-4f1a-4893-823c-71981b05302f"
      },
      "execution_count": 9,
      "outputs": [
        {
          "output_type": "stream",
          "name": "stdout",
          "text": [
            "600000\n",
            "87016\n"
          ]
        }
      ]
    },
    {
      "cell_type": "code",
      "source": [
        "# Get the labels in a needed data format for validation\n",
        "valid_labels = np.asarray(valid_labels)\n",
        "train_labels = np.asarray(train_labels)\n",
        "test_labels = np.asarray(test_labels)"
      ],
      "metadata": {
        "id": "VOhHBIqo_Yyw"
      },
      "execution_count": 10,
      "outputs": []
    },
    {
      "cell_type": "code",
      "source": [
        "train_texts = list(train_texts)\n",
        "test_texts = list(test_texts)\n",
        "valid_texts = list(valid_texts)"
      ],
      "metadata": {
        "id": "NgkW7o0a_Y5k"
      },
      "execution_count": 12,
      "outputs": []
    },
    {
      "cell_type": "markdown",
      "source": [
        "## BERT Model"
      ],
      "metadata": {
        "id": "5KEoq8Pz_0tM"
      }
    },
    {
      "cell_type": "code",
      "execution_count": 13,
      "metadata": {
        "id": "3gzOXaFdmgO8",
        "colab": {
          "base_uri": "https://localhost:8080/"
        },
        "outputId": "148d34da-68b1-4664-a6ee-b66e98fbe1a0"
      },
      "outputs": [
        {
          "output_type": "stream",
          "name": "stdout",
          "text": [
            "\u001b[2K     \u001b[90m━━━━━━━━━━━━━━━━━━━━━━━━━━━━━━━━━━━━━━━━\u001b[0m \u001b[32m6.8/6.8 MB\u001b[0m \u001b[31m44.6 MB/s\u001b[0m eta \u001b[36m0:00:00\u001b[0m\n",
            "\u001b[2K     \u001b[90m━━━━━━━━━━━━━━━━━━━━━━━━━━━━━━━━━━━━━━\u001b[0m \u001b[32m200.1/200.1 kB\u001b[0m \u001b[31m16.8 MB/s\u001b[0m eta \u001b[36m0:00:00\u001b[0m\n",
            "\u001b[2K     \u001b[90m━━━━━━━━━━━━━━━━━━━━━━━━━━━━━━━━━━━━━━━━\u001b[0m \u001b[32m7.8/7.8 MB\u001b[0m \u001b[31m100.9 MB/s\u001b[0m eta \u001b[36m0:00:00\u001b[0m\n",
            "\u001b[?25h"
          ]
        }
      ],
      "source": [
        "!pip install -q transformers"
      ]
    },
    {
      "cell_type": "code",
      "execution_count": 14,
      "metadata": {
        "id": "ULcKJUjHmkZT",
        "colab": {
          "base_uri": "https://localhost:8080/"
        },
        "outputId": "6905503e-27d9-430a-8145-98d9745438a4"
      },
      "outputs": [
        {
          "output_type": "stream",
          "name": "stdout",
          "text": [
            "Looking in indexes: https://pypi.org/simple, https://us-python.pkg.dev/colab-wheels/public/simple/\n",
            "Requirement already satisfied: pydot in /usr/local/lib/python3.9/dist-packages (1.4.2)\n",
            "Requirement already satisfied: pyparsing>=2.1.4 in /usr/local/lib/python3.9/dist-packages (from pydot) (3.0.9)\n"
          ]
        }
      ],
      "source": [
        "!pip install pydot"
      ]
    },
    {
      "cell_type": "code",
      "execution_count": 15,
      "metadata": {
        "id": "-6E-xzDawK0Q"
      },
      "outputs": [],
      "source": [
        "from collections import Counter\n",
        "import numpy as np\n",
        "import tensorflow as tf\n",
        "from tensorflow import keras\n",
        "\n",
        "import seaborn as sns\n",
        "import matplotlib.pyplot as plt\n",
        "from pprint import pprint "
      ]
    },
    {
      "cell_type": "code",
      "execution_count": 16,
      "metadata": {
        "id": "99yIOuqFXMwU"
      },
      "outputs": [],
      "source": [
        "from transformers import BertTokenizer, TFBertModel"
      ]
    },
    {
      "cell_type": "markdown",
      "metadata": {
        "id": "d3T5uytRdK7I"
      },
      "source": [
        "Let's pick our BERT model.  We'll start with the base BERT model and we'll use the uncased version since our data has been set to lower case. We already experimented with keeping case in our BERT and it wasn't improving the performance, but could do further experimentation in future work.\n",
        "\n",
        "Notes: Keeping case in BERT model produces a lower accuracy when compared with the same parameters: Validation accuracy = 0.2136. Test accuracy = 0.2164"
      ]
    },
    {
      "cell_type": "code",
      "execution_count": 18,
      "metadata": {
        "id": "-7gV_GUdn9Ck",
        "colab": {
          "base_uri": "https://localhost:8080/",
          "height": 254,
          "referenced_widgets": [
            "fd4079be0c9543c3aa8535550e16c655",
            "a3ee44c5666a48d7b0d244723ad042ee",
            "63d46a9d7c104ddd984b19d65cbb6d2f",
            "942d43f749d740b9b5e78a2492b0b15d",
            "2c9a03c9d0774a99ab5d291b38d20260",
            "27992e1a8326456eb94e25394207ba8c",
            "2ade8e6a8b4e47288d65a11f1ab67768",
            "fd56b13bba634677986360e50125e9e1",
            "4dbcd889d6f1470fb68143dc02641bce",
            "a9b39dfe347a44a097b6434e955943aa",
            "4e1ed0a51a1049caa401dbc79ef46674",
            "e2418682ef344da19c37f379ae178db1",
            "437f0ab2234944bf8b19060458af92af",
            "8f19c89c9d964c8bbaab1e4d3e8d71b1",
            "81cd9343a028438bbce2081abcf4c00c",
            "50349aff6b274b68a09a42f88ffe854b",
            "63e81d203a954a7faeb3596d4b80bc80",
            "54be7b77d8364d2895ee18376c239fad",
            "2c7bbf431ca040daae97e571e6f3a146",
            "dc91b44c28ca4da280facdb0f6cb216e",
            "c4990c1262f746b68298a428c75ab9ac",
            "4fdc93511eeb4a2189abf912845a4dce",
            "2e3c74663fc84f828252a33cc3549130",
            "291f880d8b164dd2a01a933381344a01",
            "66708420f68c4c98a39d4d075b211510",
            "2fb0c057e733454497530ee820267abd",
            "62da6003b832456a8bf0515ddf71b063",
            "0f11b87746bf48a49c57929d49416c17",
            "c8c78e1ba0cf46e6a518b70319a431ee",
            "4ddda787acac45cdacb82471881f0cbe",
            "bbe32a9327e842fabfad6f8f782e57f0",
            "e61b1fa1cec6477ca64507c2f68ac0a4",
            "be7bcca5e9334b79ba1d9d03d5eb9ac4",
            "c0331bb8191049ac8641caec307da728",
            "cb2bf7059e8a465c98ad9e255d276f8b",
            "bcf435c31cbd448a93710a49f75ed095",
            "171df9b1e2dc4966a4ac88cdbf993c94",
            "b4405b8054ad414a8af2a1ad0bcfaf77",
            "98dcdff056664a8292afd55da2ab256b",
            "7b4d2c4b79b8402a9bf556a59535abb8",
            "49f80a7616e14c9ebbdd9ed22c5da836",
            "ebca9ee6ee15466eb0772a6c7e174822",
            "af78a3761d36457f8e43c7e4f69fe652",
            "d3dc75ffd005420bb6bdd31fe45c12bc"
          ]
        },
        "outputId": "012425a2-1a99-4558-8367-7e2794e7d500"
      },
      "outputs": [
        {
          "output_type": "display_data",
          "data": {
            "text/plain": [
              "Downloading (…)solve/main/vocab.txt:   0%|          | 0.00/213k [00:00<?, ?B/s]"
            ],
            "application/vnd.jupyter.widget-view+json": {
              "version_major": 2,
              "version_minor": 0,
              "model_id": "fd4079be0c9543c3aa8535550e16c655"
            }
          },
          "metadata": {}
        },
        {
          "output_type": "display_data",
          "data": {
            "text/plain": [
              "Downloading (…)okenizer_config.json:   0%|          | 0.00/29.0 [00:00<?, ?B/s]"
            ],
            "application/vnd.jupyter.widget-view+json": {
              "version_major": 2,
              "version_minor": 0,
              "model_id": "e2418682ef344da19c37f379ae178db1"
            }
          },
          "metadata": {}
        },
        {
          "output_type": "display_data",
          "data": {
            "text/plain": [
              "Downloading (…)lve/main/config.json:   0%|          | 0.00/570 [00:00<?, ?B/s]"
            ],
            "application/vnd.jupyter.widget-view+json": {
              "version_major": 2,
              "version_minor": 0,
              "model_id": "2e3c74663fc84f828252a33cc3549130"
            }
          },
          "metadata": {}
        },
        {
          "output_type": "display_data",
          "data": {
            "text/plain": [
              "Downloading tf_model.h5:   0%|          | 0.00/527M [00:00<?, ?B/s]"
            ],
            "application/vnd.jupyter.widget-view+json": {
              "version_major": 2,
              "version_minor": 0,
              "model_id": "c0331bb8191049ac8641caec307da728"
            }
          },
          "metadata": {}
        },
        {
          "output_type": "stream",
          "name": "stderr",
          "text": [
            "Some layers from the model checkpoint at bert-base-cased were not used when initializing TFBertModel: ['nsp___cls', 'mlm___cls']\n",
            "- This IS expected if you are initializing TFBertModel from the checkpoint of a model trained on another task or with another architecture (e.g. initializing a BertForSequenceClassification model from a BertForPreTraining model).\n",
            "- This IS NOT expected if you are initializing TFBertModel from the checkpoint of a model that you expect to be exactly identical (initializing a BertForSequenceClassification model from a BertForSequenceClassification model).\n",
            "All the layers of TFBertModel were initialized from the model checkpoint at bert-base-cased.\n",
            "If your task is similar to the task the model of the checkpoint was trained on, you can already use TFBertModel for predictions without further training.\n"
          ]
        }
      ],
      "source": [
        "model_checkpoint = 'bert-base-uncased'\n",
        "\n",
        "bert_tokenizer = BertTokenizer.from_pretrained(model_checkpoint)\n",
        "bert_model = TFBertModel.from_pretrained(model_checkpoint)"
      ]
    },
    {
      "cell_type": "code",
      "execution_count": 19,
      "metadata": {
        "id": "h_59AaVznMCV"
      },
      "outputs": [],
      "source": [
        "max_length = 32"
      ]
    },
    {
      "cell_type": "markdown",
      "metadata": {
        "id": "n6d54_bqd58L"
      },
      "source": [
        "Now we'll tokenize our three data slices.  This will take a minute or two."
      ]
    },
    {
      "cell_type": "code",
      "execution_count": 20,
      "metadata": {
        "id": "bgv0nftinL6z"
      },
      "outputs": [],
      "source": [
        "# tokenize the dataset, truncate when passed `max_length`, \n",
        "# and pad with 0's when less than `max_length` and return a tf Tensor\n",
        "train_encodings = bert_tokenizer(train_texts, truncation=True, padding=True, max_length=max_length, return_tensors='tf')\n",
        "valid_encodings = bert_tokenizer(valid_texts, truncation=True, padding=True, max_length=max_length, return_tensors='tf')\n",
        "test_encodings = bert_tokenizer(test_texts, truncation=True, padding=True, max_length=max_length, return_tensors='tf')"
      ]
    },
    {
      "cell_type": "markdown",
      "metadata": {
        "id": "2gNS0Fi0emN8"
      },
      "source": [
        "Notice our input_ids for the first training record and their padding. The train_encodings also includes an array of token_type_ids and an attention_mask array. "
      ]
    },
    {
      "cell_type": "code",
      "execution_count": 21,
      "metadata": {
        "id": "XFEXxgAmnLve",
        "colab": {
          "base_uri": "https://localhost:8080/"
        },
        "outputId": "630b2d6c-99fc-4303-d13a-e2830ea5236e"
      },
      "outputs": [
        {
          "output_type": "execute_result",
          "data": {
            "text/plain": [
              "<tf.Tensor: shape=(1, 32), dtype=int32, numpy=\n",
              "array([[  101,   137, 24181,  2646, 18910,  7629,   117,  1128,  1274,\n",
              "         1204,  1138,  1251,  1827,  1106,   187,  6094, 21958,   102,\n",
              "            0,     0,     0,     0,     0,     0,     0,     0,     0,\n",
              "            0,     0,     0,     0,     0]], dtype=int32)>"
            ]
          },
          "metadata": {},
          "execution_count": 21
        }
      ],
      "source": [
        "train_encodings.input_ids[:1]"
      ]
    },
    {
      "cell_type": "markdown",
      "metadata": {
        "id": "23lwfDw2T6gI"
      },
      "source": [
        "Multiclass bert model characteristics:\n",
        "* Each record can have one of 30 labels: n = the size of target_names.\n",
        "* Hidden size layer of size 32\n",
        "* Hidden layer makes use of the **pooler output** from BERT\n",
        "* Use dropout\n",
        "* Classification layer appropriately sized and use softmax non-linearity for multi-class.\n",
        "* Loss metric is categorical cross entropy\n",
        "* Training affects **all** of the layers in BERT\n"
      ]
    },
    {
      "cell_type": "code",
      "source": [
        "from tensorflow.keras.optimizers.legacy import Adam   # Needed to work"
      ],
      "metadata": {
        "id": "3BTxLslSY-u1"
      },
      "execution_count": 22,
      "outputs": []
    },
    {
      "cell_type": "code",
      "execution_count": 23,
      "metadata": {
        "id": "RtWMrLi4tIun"
      },
      "outputs": [],
      "source": [
        "def create_bert_multiclass_model(checkpoint = model_checkpoint,\n",
        "                                 num_classes = 30,\n",
        "                                 hidden_size = 201, \n",
        "                                 dropout=0.3,\n",
        "                                 learning_rate=0.00005):\n",
        "    \"\"\"\n",
        "    Build a simple classification model with BERT. Use the Pooler Output for classification purposes.\n",
        "    \"\"\"\n",
        "    bert_model = TFBertModel.from_pretrained(checkpoint)                                              \n",
        "\n",
        "    bert_model.trainable = True\n",
        "\n",
        "    input_ids = tf.keras.layers.Input(shape=(max_length,), dtype=tf.int64, name='input_ids_layer')\n",
        "    token_type_ids = tf.keras.layers.Input(shape=(max_length,), dtype=tf.int64, name='token_type_ids_layer')\n",
        "    attention_mask = tf.keras.layers.Input(shape=(max_length,), dtype=tf.int64, name='attention_mask_layer')\n",
        "\n",
        "    bert_inputs = {'input_ids': input_ids,\n",
        "                   'token_type_ids': token_type_ids,\n",
        "                   'attention_mask': attention_mask}      \n",
        "\n",
        "    bert_out = bert_model(bert_inputs)\n",
        "    pooler_token = bert_out[1]\n",
        "\n",
        "    hidden = tf.keras.layers.Dense(hidden_size, activation='relu', name='hidden_layer')(pooler_token)\n",
        "    hidden = tf.keras.layers.Dropout(dropout)(hidden)\n",
        "\n",
        "    classification = tf.keras.layers.Dense(num_classes, activation='softmax',name='classification_layer')(hidden)\n",
        "    \n",
        "    classification_model = tf.keras.Model(inputs=[input_ids, token_type_ids, attention_mask], outputs=[classification])\n",
        "    \n",
        "    classification_model.compile(optimizer=Adam(learning_rate=learning_rate),\n",
        "                                 loss=tf.keras.losses.SparseCategoricalCrossentropy(from_logits=False), \n",
        "                                 metrics='accuracy')\n",
        "\n",
        "\n",
        "    return classification_model"
      ]
    },
    {
      "cell_type": "code",
      "execution_count": 24,
      "metadata": {
        "id": "uR-Id158tIlH",
        "colab": {
          "base_uri": "https://localhost:8080/"
        },
        "outputId": "7e5406bf-e66a-482c-90de-2e441329e20e"
      },
      "outputs": [
        {
          "output_type": "stream",
          "name": "stderr",
          "text": [
            "Some layers from the model checkpoint at bert-base-cased were not used when initializing TFBertModel: ['nsp___cls', 'mlm___cls']\n",
            "- This IS expected if you are initializing TFBertModel from the checkpoint of a model trained on another task or with another architecture (e.g. initializing a BertForSequenceClassification model from a BertForPreTraining model).\n",
            "- This IS NOT expected if you are initializing TFBertModel from the checkpoint of a model that you expect to be exactly identical (initializing a BertForSequenceClassification model from a BertForSequenceClassification model).\n",
            "All the layers of TFBertModel were initialized from the model checkpoint at bert-base-cased.\n",
            "If your task is similar to the task the model of the checkpoint was trained on, you can already use TFBertModel for predictions without further training.\n"
          ]
        }
      ],
      "source": [
        "pooler_bert_model = create_bert_multiclass_model(checkpoint=model_checkpoint, num_classes=30)"
      ]
    },
    {
      "cell_type": "code",
      "execution_count": 25,
      "metadata": {
        "id": "bMxpO16-tIaE",
        "colab": {
          "base_uri": "https://localhost:8080/"
        },
        "outputId": "3fdd8152-dca2-4e5f-f96f-0b469d348255"
      },
      "outputs": [
        {
          "output_type": "stream",
          "name": "stdout",
          "text": [
            "Model: \"model\"\n",
            "__________________________________________________________________________________________________\n",
            " Layer (type)                   Output Shape         Param #     Connected to                     \n",
            "==================================================================================================\n",
            " attention_mask_layer (InputLay  [(None, 32)]        0           []                               \n",
            " er)                                                                                              \n",
            "                                                                                                  \n",
            " input_ids_layer (InputLayer)   [(None, 32)]         0           []                               \n",
            "                                                                                                  \n",
            " token_type_ids_layer (InputLay  [(None, 32)]        0           []                               \n",
            " er)                                                                                              \n",
            "                                                                                                  \n",
            " tf_bert_model_1 (TFBertModel)  TFBaseModelOutputWi  108310272   ['attention_mask_layer[0][0]',   \n",
            "                                thPoolingAndCrossAt               'input_ids_layer[0][0]',        \n",
            "                                tentions(last_hidde               'token_type_ids_layer[0][0]']   \n",
            "                                n_state=(None, 32,                                                \n",
            "                                768),                                                             \n",
            "                                 pooler_output=(Non                                               \n",
            "                                e, 768),                                                          \n",
            "                                 past_key_values=No                                               \n",
            "                                ne, hidden_states=N                                               \n",
            "                                one, attentions=Non                                               \n",
            "                                e, cross_attentions                                               \n",
            "                                =None)                                                            \n",
            "                                                                                                  \n",
            " hidden_layer (Dense)           (None, 201)          154569      ['tf_bert_model_1[0][1]']        \n",
            "                                                                                                  \n",
            " dropout_74 (Dropout)           (None, 201)          0           ['hidden_layer[0][0]']           \n",
            "                                                                                                  \n",
            " classification_layer (Dense)   (None, 30)           6060        ['dropout_74[0][0]']             \n",
            "                                                                                                  \n",
            "==================================================================================================\n",
            "Total params: 108,470,901\n",
            "Trainable params: 108,470,901\n",
            "Non-trainable params: 0\n",
            "__________________________________________________________________________________________________\n"
          ]
        }
      ],
      "source": [
        "pooler_bert_model.summary()"
      ]
    },
    {
      "cell_type": "code",
      "execution_count": 26,
      "metadata": {
        "id": "xe3tTWX6FVZL",
        "colab": {
          "base_uri": "https://localhost:8080/",
          "height": 438
        },
        "outputId": "a59d32b9-601e-4422-81a1-2c94a429408d"
      },
      "outputs": [
        {
          "output_type": "execute_result",
          "data": {
            "image/png": "[encoded data removed]",
            "text/plain": [
              "<IPython.core.display.Image object>"
            ]
          },
          "metadata": {},
          "execution_count": 26
        }
      ],
      "source": [
        "keras.utils.plot_model(pooler_bert_model, show_shapes=False, show_dtype=False, show_layer_names=True, dpi=90)"
      ]
    },
    {
      "cell_type": "code",
      "source": [
        "pooler_bert_model_history = pooler_bert_model.fit([train_encodings.input_ids, train_encodings.token_type_ids, train_encodings.attention_mask], \n",
        "                                                  train_labels,   \n",
        "                                                  validation_data=([valid_encodings.input_ids, valid_encodings.token_type_ids, valid_encodings.attention_mask], \n",
        "                                                  valid_labels),    \n",
        "                                                  batch_size=32, \n",
        "                                                  epochs=1)  "
      ],
      "metadata": {
        "colab": {
          "base_uri": "https://localhost:8080/"
        },
        "id": "fBi-yA_lKVVt",
        "outputId": "44f0f3c7-c98b-49e3-9c9d-15c524e1f160"
      },
      "execution_count": 29,
      "outputs": [
        {
          "output_type": "stream",
          "name": "stdout",
          "text": [
            "18750/18750 [==============================] - 4243s 226ms/step - loss: 1.8103 - accuracy: 0.4581 - val_loss: 1.6104 - val_accuracy: 0.5060\n"
          ]
        }
      ]
    },
    {
      "cell_type": "markdown",
      "metadata": {
        "id": "rdHlOd4LJUOH"
      },
      "source": [
        "Now we need to run evaluate against our fine-tuned model.  This will give us an overall accuracy based on the test set."
      ]
    },
    {
      "cell_type": "code",
      "source": [
        "# batch=32, max length=32\n",
        "score = pooler_bert_model.evaluate([test_encodings.input_ids, test_encodings.token_type_ids, test_encodings.attention_mask], \n",
        "                                                  test_labels) \n",
        "\n",
        "print('Test loss:', score[0]) \n",
        "print('Test accuracy:', score[1])"
      ],
      "metadata": {
        "colab": {
          "base_uri": "https://localhost:8080/"
        },
        "id": "3Ucamd3CHViy",
        "outputId": "d61c6c00-cf07-41e7-decc-b3152c25d74f"
      },
      "execution_count": 30,
      "outputs": [
        {
          "output_type": "stream",
          "name": "stdout",
          "text": [
            "5368/5368 [==============================] - 443s 82ms/step - loss: 1.6050 - accuracy: 0.5084\n",
            "Test loss: 1.6049749851226807\n",
            "Test accuracy: 0.5083957314491272\n"
          ]
        }
      ]
    },
    {
      "cell_type": "code",
      "source": [
        "# Make predictions\n",
        "predictions_model = pooler_bert_model.predict([test_encodings.input_ids, test_encodings.token_type_ids, test_encodings.attention_mask])\n",
        "\n",
        "# Get highest probability in the distribution for each prediction and store in a tf.Tensor\n",
        "predictions_model = tf.argmax(predictions_model, axis=-1)\n",
        "predictions_model"
      ],
      "metadata": {
        "colab": {
          "base_uri": "https://localhost:8080/"
        },
        "id": "xg81PDYqHVsL",
        "outputId": "5559725e-2ad3-435b-dc6e-46ad1d39dab9"
      },
      "execution_count": 31,
      "outputs": [
        {
          "output_type": "stream",
          "name": "stdout",
          "text": [
            "5368/5368 [==============================] - 432s 80ms/step\n"
          ]
        },
        {
          "output_type": "execute_result",
          "data": {
            "text/plain": [
              "<tf.Tensor: shape=(171754,), dtype=int64, numpy=array([ 9, 18,  5, ...,  3, 24, 12])>"
            ]
          },
          "metadata": {},
          "execution_count": 31
        }
      ]
    },
    {
      "cell_type": "markdown",
      "metadata": {
        "id": "LGI8oA6fMWTI"
      },
      "source": [
        "There are two ways to see what's going on with our classifier.  Overall accuracy is interesting but it can be misleading.  We need to make sure that each of our categories' prediction performance is operating at an equal or higher level than the overall.\n",
        "\n",
        "Here we'll use the classification report from scikit learn.  It expects two inputs as arrays.  One is the ground truth (y_true) and the other is the associated prediction (y_pred).  This is based on gethering all the predictions from our our test set."
      ]
    },
    {
      "cell_type": "code",
      "source": [
        "print(classification_report(test_labels, predictions_model.numpy(), target_names=target_names))"
      ],
      "metadata": {
        "colab": {
          "base_uri": "https://localhost:8080/"
        },
        "id": "IZBtS1sNHVvt",
        "outputId": "12b5520a-8d9d-4f88-c463-4e0072d60870"
      },
      "execution_count": 32,
      "outputs": [
        {
          "output_type": "stream",
          "name": "stdout",
          "text": [
            "                 precision    recall  f1-score   support\n",
            "\n",
            "          4Head       0.68      0.44      0.54      1916\n",
            "         4Weird       0.64      0.40      0.49       928\n",
            "          5Head       0.80      0.08      0.14      1019\n",
            "          AYAYA       0.73      0.61      0.67      3555\n",
            "     BibleThump       0.56      0.29      0.38      2838\n",
            "       DansGame       0.57      0.33      0.42      1703\n",
            "       FailFish       0.52      0.36      0.42      1507\n",
            "    FeelsBadMan       0.88      0.82      0.85      7153\n",
            "   FeelsGoodMan       0.89      0.86      0.88      5694\n",
            "           KEKW       0.44      0.58      0.50     37165\n",
            "          Kappa       0.75      0.03      0.05      5683\n",
            "       Kreygasm       0.38      0.34      0.36      2239\n",
            "            LUL       0.40      0.59      0.48     35572\n",
            "    MorphinTime       0.99      0.97      0.98      3592\n",
            "    NotLikeThis       0.27      0.16      0.20      3347\n",
            "     PauseChamp       0.48      0.20      0.28      1782\n",
            "      PepeLaugh       0.73      0.36      0.48      5302\n",
            "         Pepega       0.67      0.36      0.46      2762\n",
            "            Pog       0.41      0.45      0.43     12206\n",
            "       PogChamp       0.88      0.36      0.51      2717\n",
            "           PogU       0.62      0.10      0.16      4051\n",
            "ResidentSleeper       0.49      0.19      0.28      1446\n",
            "          Sadge       0.44      0.34      0.39      9254\n",
            "      SwiftRage       0.71      0.56      0.63      1010\n",
            "        TriHard       0.86      0.73      0.79      2457\n",
            "     WeirdChamp       0.65      0.37      0.47      2097\n",
            "            YEP       0.47      0.08      0.13      4481\n",
            "      gachiBASS       0.81      0.84      0.83      3283\n",
            "     monkaOMEGA       0.88      0.82      0.85      3694\n",
            " widepeepoHappy       0.56      0.47      0.51      1301\n",
            "\n",
            "       accuracy                           0.51    171754\n",
            "      macro avg       0.64      0.44      0.48    171754\n",
            "   weighted avg       0.55      0.51      0.49    171754\n",
            "\n"
          ]
        }
      ]
    },
    {
      "cell_type": "markdown",
      "source": [
        "Notes:\n",
        "- Starts overfitting in the second epoch. Val accuracy goes from 0.45 to 0.22\n",
        "- Not lower casing gives val accuracy of 0.2136. Test accuracy = 0.2164"
      ],
      "metadata": {
        "id": "H5sfOJljf4KW"
      }
    },
    {
      "cell_type": "code",
      "execution_count": 38,
      "metadata": {
        "id": "gh0Bxg-8EhzZ",
        "colab": {
          "base_uri": "https://localhost:8080/",
          "height": 649
        },
        "outputId": "1499876f-a5f2-449a-a971-d2fbc941f9d5"
      },
      "outputs": [
        {
          "output_type": "display_data",
          "data": {
            "text/plain": [
              "<Figure size 1600x600 with 2 Axes>"
            ],
            "image/png": "[encoded data removed]"
          },
          "metadata": {}
        }
      ],
      "source": [
        "cm = tf.math.confusion_matrix(test_labels, predictions_model)\n",
        "cm = np.around(cm/cm.numpy().sum(axis=1)[:, tf.newaxis], decimals=2)\n",
        "\n",
        "plt.figure(figsize=(16,6))\n",
        "sns.heatmap(\n",
        "    cm, annot=True,\n",
        "    xticklabels=target_names,\n",
        "    yticklabels=target_names)\n",
        "plt.xlabel(\"Predicted\")\n",
        "plt.ylabel(\"True\")\n",
        "plt.show()"
      ]
    },
    {
      "cell_type": "code",
      "source": [
        "# Test some custom inputs into the model for model comparison\n",
        "\n",
        "example = ['any second now']\n",
        "example_encodings = bert_tokenizer(example, truncation=True, padding=True, max_length=max_length, return_tensors='tf')\n",
        "example_prediction = pooler_bert_model.predict([example_encodings.input_ids, example_encodings.token_type_ids, example_encodings.attention_mask])\n",
        "\n",
        "example_prediction = tf.argmax(example_prediction , axis=-1)\n",
        "example_prediction\n",
        "\n",
        "le.inverse_transform(example_prediction)"
      ],
      "metadata": {
        "colab": {
          "base_uri": "https://localhost:8080/"
        },
        "id": "3dag-8c4No6P",
        "outputId": "231238d0-92a2-49e4-8e0f-35406fda6c6e"
      },
      "execution_count": 85,
      "outputs": [
        {
          "output_type": "stream",
          "name": "stdout",
          "text": [
            "1/1 [==============================] - 0s 111ms/step\n"
          ]
        },
        {
          "output_type": "execute_result",
          "data": {
            "text/plain": [
              "array(['PauseChamp'], dtype=object)"
            ]
          },
          "metadata": {},
          "execution_count": 85
        }
      ]
    },
    {
      "cell_type": "markdown",
      "metadata": {
        "id": "coyVPop8SuG9"
      },
      "source": [
        "## Misclassification Examples\n",
        "\n",
        "We might be able to tell what happened from the confusion matrix, but it's also always a good idea to look at actual examples that were misclassified, to see if we can spot any patterns. We can also isolate more specific examples for each class of interest, Let's do that below.\n"
      ]
    },
    {
      "cell_type": "code",
      "execution_count": 42,
      "metadata": {
        "id": "x4dEwbnc_6qr",
        "colab": {
          "base_uri": "https://localhost:8080/"
        },
        "outputId": "e509563d-75ae-46fd-93a6-afda6a4ee6e1"
      },
      "outputs": [
        {
          "output_type": "stream",
          "name": "stdout",
          "text": [
            "Prediction = KEKW, Actual = AYAYA):\n",
            "Text: g  e  n  g\n",
            "\n",
            "\n",
            "Prediction = KEKW, Actual = Pog):\n",
            "Text: disney plus kia \n",
            "\n",
            "\n",
            "Prediction = KEKW, Actual = monkaOMEGA):\n",
            "Text: same plushy pile  same plushy pile  same plushy pile  same plushy pile  same plushy pile \n",
            "\n",
            "\n",
            "Prediction = KEKW, Actual = LUL):\n",
            "Text: they teach you and i learn from you \n",
            "\n",
            "\n",
            "Prediction = KEKW, Actual = Sadge):\n",
            "Text: lost to mechanics \n",
            "\n",
            "\n",
            "Prediction = KEKW, Actual = Pog):\n",
            "Text: it might be a wr \n",
            "\n",
            "\n",
            "Prediction = KEKW, Actual = WeirdChamp):\n",
            "Text: kevin is an incel \n",
            "\n",
            "\n",
            "Prediction = KEKW, Actual = DansGame):\n",
            "Text: nerf river shen  not balanced \n",
            "\n",
            "\n",
            "Prediction = KEKW, Actual = LUL):\n",
            "Text: i love your show family guy \n",
            "\n",
            "\n",
            "Prediction = KEKW, Actual = LUL):\n",
            "Text: eu so quiet??  \n",
            "\n",
            "\n"
          ]
        }
      ],
      "source": [
        "# Make a vector the length of our test set, with 1 if the second model predicted the\n",
        "# 9 class, and 0s otherwise\n",
        "select_predictions = (predictions_model.numpy() == 9)\n",
        "\n",
        "# Now only keep a 1 if that was not the correct label, i.e. it was a false positive\n",
        "select_predictions = select_predictions * (test_labels != 9)\n",
        "\n",
        "\n",
        "# Print out the original and clean text of the examples that met the above conditions\n",
        "for i in np.where(select_predictions)[0][10:20]:\n",
        "      print('Prediction = %s, Actual = %s):\\nText: %s\\n\\n' %\n",
        "            (target_names[predictions_model[i]],\n",
        "            target_names[test_labels[i]],\n",
        "            test_texts[i][:1000].replace('\\n', ' ')))"
      ]
    },
    {
      "cell_type": "code",
      "source": [
        "select_predictions = (predictions_model.numpy() == 9)\n",
        "select_predictions = select_predictions * (test_labels == 9)\n",
        "\n",
        "for i in np.where(select_predictions)[0][:10]:\n",
        "      print('Prediction = %s, Actual = %s):\\nText: %s\\n\\n' %\n",
        "            (target_names[predictions_model[i]],\n",
        "            target_names[test_labels[i]],\n",
        "            test_texts[i][:1000].replace('\\n', ' ')))"
      ],
      "metadata": {
        "colab": {
          "base_uri": "https://localhost:8080/"
        },
        "id": "03uPXGyYMGVh",
        "outputId": "86b76537-d802-4090-cf48-3364ca303927"
      },
      "execution_count": 44,
      "outputs": [
        {
          "output_type": "stream",
          "name": "stdout",
          "text": [
            "Prediction = KEKW, Actual = KEKW):\n",
            "Text: @claps_121 free lane for zeri and kassadin \n",
            "\n",
            "\n",
            "Prediction = KEKW, Actual = KEKW):\n",
            "Text: fpx at worlds? \n",
            "\n",
            "\n",
            "Prediction = KEKW, Actual = KEKW):\n",
            "Text: super meme team \n",
            "\n",
            "\n",
            "Prediction = KEKW, Actual = KEKW):\n",
            "Text: gambling politics or zoomer \n",
            "\n",
            "\n",
            "Prediction = KEKW, Actual = KEKW):\n",
            "Text: it's a sidequest \n",
            "\n",
            "\n",
            "Prediction = KEKW, Actual = KEKW):\n",
            "Text: like in na \n",
            "\n",
            "\n",
            "Prediction = KEKW, Actual = KEKW):\n",
            "Text: finn  losing to ornn\n",
            "\n",
            "\n",
            "Prediction = KEKW, Actual = KEKW):\n",
            "Text: true i can see that \n",
            "\n",
            "\n",
            "Prediction = KEKW, Actual = KEKW):\n",
            "Text: korean learning book \n",
            "\n",
            "\n",
            "Prediction = KEKW, Actual = KEKW):\n",
            "Text: ezreal so useless \n",
            "\n",
            "\n"
          ]
        }
      ]
    },
    {
      "cell_type": "markdown",
      "source": [],
      "metadata": {
        "id": "umTmDf32GPW3"
      }
    },
    {
      "cell_type": "markdown",
      "source": [
        "MorphinTime"
      ],
      "metadata": {
        "id": "juJZ-MosGPk7"
      }
    },
    {
      "cell_type": "code",
      "source": [
        "select_predictions = (predictions_model.numpy() == 13)\n",
        "select_predictions = select_predictions * (test_labels != 13)\n",
        "\n",
        "for i in np.where(select_predictions)[0][:10]:\n",
        "      print('Prediction = %s, Actual = %s):\\nText: %s\\n\\n' %\n",
        "            (target_names[predictions_model[i]],\n",
        "            target_names[test_labels[i]],\n",
        "            test_texts[i][:1000].replace('\\n', ' ')))"
      ],
      "metadata": {
        "colab": {
          "base_uri": "https://localhost:8080/"
        },
        "id": "PO_OrpmWGOuc",
        "outputId": "d66d5326-0d44-4140-e2f3-136ce5a69b6c"
      },
      "execution_count": 43,
      "outputs": [
        {
          "output_type": "stream",
          "name": "stdout",
          "text": [
            "Prediction = MorphinTime, Actual = Pog):\n",
            "Text: lets goo fnc \n",
            "\n",
            "\n",
            "Prediction = MorphinTime, Actual = PogChamp):\n",
            "Text: lets go g2 \n",
            "\n",
            "\n",
            "Prediction = MorphinTime, Actual = LUL):\n",
            "Text: lets go fnc  lets go fnc  lets go fnc \n",
            "\n",
            "\n",
            "Prediction = MorphinTime, Actual = Pog):\n",
            "Text: lets go g2 \n",
            "\n",
            "\n",
            "Prediction = MorphinTime, Actual = Kappa):\n",
            "Text: lets go fnatic \n",
            "\n",
            "\n",
            "Prediction = MorphinTime, Actual = PogU):\n",
            "Text: lets go g2 \n",
            "\n",
            "\n",
            "Prediction = MorphinTime, Actual = Pog):\n",
            "Text: lets go boaster  lets go boaster  lets go boaster  lets go boaster  lets go boaster \n",
            "\n",
            "\n",
            "Prediction = MorphinTime, Actual = Pog):\n",
            "Text: lets go g2  lets go g2  lets go g2 \n",
            "\n",
            "\n",
            "Prediction = MorphinTime, Actual = AYAYA):\n",
            "Text: gg lets goggogogogoggo!! fnc fnc    fnc  \n",
            "\n",
            "\n",
            "Prediction = MorphinTime, Actual = Pog):\n",
            "Text: lets go g2 \n",
            "\n",
            "\n"
          ]
        }
      ]
    },
    {
      "cell_type": "code",
      "source": [
        "select_predictions = (predictions_model.numpy() == 13)\n",
        "select_predictions = select_predictions * (test_labels == 13)\n",
        "\n",
        "for i in np.where(select_predictions)[0][:10]:\n",
        "      print('Prediction = %s, Actual = %s):\\nText: %s\\n\\n' %\n",
        "            (target_names[predictions_model[i]],\n",
        "            target_names[test_labels[i]],\n",
        "            test_texts[i][:1000].replace('\\n', ' ')))"
      ],
      "metadata": {
        "colab": {
          "base_uri": "https://localhost:8080/"
        },
        "id": "TADD2Vz0Gfow",
        "outputId": "36857dae-dcad-401b-a3bc-bb7a067d5aaf"
      },
      "execution_count": 45,
      "outputs": [
        {
          "output_type": "stream",
          "name": "stdout",
          "text": [
            "Prediction = MorphinTime, Actual = MorphinTime):\n",
            "Text:  spam  this  static  to  support  fnatic  spam  this  static  to  support  fnatic \n",
            "\n",
            "\n",
            "Prediction = MorphinTime, Actual = MorphinTime):\n",
            "Text:  spam  this  static  to  help  fnatic  spam  this  static  to  help  fnatic \n",
            "\n",
            "\n",
            "Prediction = MorphinTime, Actual = MorphinTime):\n",
            "Text:  spam  this  static  to  support  fnatic  spam  this  static  to  support  fnatic \n",
            "\n",
            "\n",
            "Prediction = MorphinTime, Actual = MorphinTime):\n",
            "Text:  spam  this  static  to  help  fnatic  spam  this  static  to  help  fnatic \n",
            "\n",
            "\n",
            "Prediction = MorphinTime, Actual = MorphinTime):\n",
            "Text: spam  this  static  to  help  fnaticspam  this  static  to  help  fnatic\n",
            "\n",
            "\n",
            "Prediction = MorphinTime, Actual = MorphinTime):\n",
            "Text:  spam  this  static  to  help  fnatic \n",
            "\n",
            "\n",
            "Prediction = MorphinTime, Actual = MorphinTime):\n",
            "Text:  spam  this  static  to  help  fnatic   spam  this  static  to  help  fnatic \n",
            "\n",
            "\n",
            "Prediction = MorphinTime, Actual = MorphinTime):\n",
            "Text: spam  this  static  to  support  fnatic  spam  this  static  to  help  fnatic..\n",
            "\n",
            "\n",
            "Prediction = MorphinTime, Actual = MorphinTime):\n",
            "Text:  spam  this  static  to  help  fnatic   spam  this  static  to  help  fnatic \n",
            "\n",
            "\n",
            "Prediction = MorphinTime, Actual = MorphinTime):\n",
            "Text:  spam  this  static  to  help  fnatic  ! spam  this  static  to  help  fnatic  !\n",
            "\n",
            "\n"
          ]
        }
      ]
    },
    {
      "cell_type": "markdown",
      "source": [
        "LUL"
      ],
      "metadata": {
        "id": "PWv8C97iHMnf"
      }
    },
    {
      "cell_type": "code",
      "source": [
        "select_predictions = (predictions_model.numpy() == 12)\n",
        "select_predictions = select_predictions * (test_labels != 12)\n",
        "\n",
        "for i in np.where(select_predictions)[0][:10]:\n",
        "      print('Prediction = %s, Actual = %s):\\nText: %s\\n\\n' %\n",
        "            (target_names[predictions_model[i]],\n",
        "            target_names[test_labels[i]],\n",
        "            test_texts[i][:1000].replace('\\n', ' ')))"
      ],
      "metadata": {
        "colab": {
          "base_uri": "https://localhost:8080/"
        },
        "id": "tbK9MjlJHMyk",
        "outputId": "c509dfa5-211f-4db5-f2fe-0a879c849f3b"
      },
      "execution_count": 48,
      "outputs": [
        {
          "output_type": "stream",
          "name": "stdout",
          "text": [
            "Prediction = LUL, Actual = PepeLaugh):\n",
            "Text: no ad for u \n",
            "\n",
            "\n",
            "Prediction = LUL, Actual = DansGame):\n",
            "Text: why are we watching this and not the ping pong? \n",
            "\n",
            "\n",
            "Prediction = LUL, Actual = YEP):\n",
            "Text:  good stuff regardless\n",
            "\n",
            "\n",
            "Prediction = LUL, Actual = PepeLaugh):\n",
            "Text:  surely no cancellations\n",
            "\n",
            "\n",
            "Prediction = LUL, Actual = KEKW):\n",
            "Text: @ragnarosthefacelord it took the same for hollow knight ? \n",
            "\n",
            "\n",
            "Prediction = LUL, Actual = KEKW):\n",
            "Text: og kicked ana for this ? \n",
            "\n",
            "\n",
            "Prediction = LUL, Actual = YEP):\n",
            "Text: oh i thought that was the commentator mimi oops \n",
            "\n",
            "\n",
            "Prediction = LUL, Actual = KEKW):\n",
            "Text: i like new picks but at the same time mf \n",
            "\n",
            "\n",
            "Prediction = LUL, Actual = Kappa):\n",
            "Text: you gotta sub for a forehead reveal \n",
            "\n",
            "\n",
            "Prediction = LUL, Actual = Sadge):\n",
            "Text: there's no music like in rollercoaster tycoon \n",
            "\n",
            "\n"
          ]
        }
      ]
    },
    {
      "cell_type": "code",
      "source": [
        "select_predictions = (predictions_model.numpy() == 12)\n",
        "select_predictions = select_predictions * (test_labels == 12)\n",
        "\n",
        "for i in np.where(select_predictions)[0][:10]:\n",
        "      print('Prediction = %s, Actual = %s):\\nText: %s\\n\\n' %\n",
        "            (target_names[predictions_model[i]],\n",
        "            target_names[test_labels[i]],\n",
        "            test_texts[i][:1000].replace('\\n', ' ')))"
      ],
      "metadata": {
        "colab": {
          "base_uri": "https://localhost:8080/"
        },
        "id": "u1CexsRuHM46",
        "outputId": "fe02d902-ecb5-42cd-c352-f90b8e9b5c43"
      },
      "execution_count": 50,
      "outputs": [
        {
          "output_type": "stream",
          "name": "stdout",
          "text": [
            "Prediction = LUL, Actual = LUL):\n",
            "Text: @usdaprimealpha i take it now you just watch someone else play it instead? \n",
            "\n",
            "\n",
            "Prediction = LUL, Actual = LUL):\n",
            "Text: asmongold 8 v emi 12* asmon making a comeback and should roast emi \n",
            "\n",
            "\n",
            "Prediction = LUL, Actual = LUL):\n",
            "Text: dyrachyo so bad doesnt even press rot \n",
            "\n",
            "\n",
            "Prediction = LUL, Actual = LUL):\n",
            "Text: all over a picture \n",
            "\n",
            "\n",
            "Prediction = LUL, Actual = LUL):\n",
            "Text: @dcdfuzed \"badum tis\" \n",
            "\n",
            "\n",
            "Prediction = LUL, Actual = LUL):\n",
            "Text: bro is 400 pounds \n",
            "\n",
            "\n",
            "Prediction = LUL, Actual = LUL):\n",
            "Text: @keidootv just doesnt like diablo \n",
            "\n",
            "\n",
            "Prediction = LUL, Actual = LUL):\n",
            "Text: lil bro is fuming \n",
            "\n",
            "\n",
            "Prediction = LUL, Actual = LUL):\n",
            "Text: riki over here playing constructed \n",
            "\n",
            "\n",
            "Prediction = LUL, Actual = LUL):\n",
            "Text: his smile tho    \n",
            "\n",
            "\n"
          ]
        }
      ]
    },
    {
      "cell_type": "markdown",
      "source": [
        "YEP (worst f1 score)"
      ],
      "metadata": {
        "id": "s3FDEcl_Ghhe"
      }
    },
    {
      "cell_type": "code",
      "source": [
        "select_predictions = (predictions_model.numpy() == 26)\n",
        "select_predictions = select_predictions * (test_labels != 26)\n",
        "\n",
        "for i in np.where(select_predictions)[0][:10]:\n",
        "      print('Prediction = %s, Actual = %s):\\nText: %s\\n\\n' %\n",
        "            (target_names[predictions_model[i]],\n",
        "            target_names[test_labels[i]],\n",
        "            test_texts[i][:1000].replace('\\n', ' ')))"
      ],
      "metadata": {
        "colab": {
          "base_uri": "https://localhost:8080/"
        },
        "id": "1WET_e-yGj2a",
        "outputId": "f4efe894-2e1c-4031-ab3e-ab9912e0edae"
      },
      "execution_count": 51,
      "outputs": [
        {
          "output_type": "stream",
          "name": "stdout",
          "text": [
            "Prediction = YEP, Actual = KEKW):\n",
            "Text: nationalization would help with cost cutting because you wouldnt have to contract out to private corpos \n",
            "\n",
            "\n",
            "Prediction = YEP, Actual = Pog):\n",
            "Text:  beat the dicks, toby\n",
            "\n",
            "\n",
            "Prediction = YEP, Actual = 5Head):\n",
            "Text: ignorance is bliss \n",
            "\n",
            "\n",
            "Prediction = YEP, Actual = KEKW):\n",
            "Text: i have my cock in my left hand \n",
            "\n",
            "\n",
            "Prediction = YEP, Actual = WeirdChamp):\n",
            "Text:  hes lagging oyu asshole\n",
            "\n",
            "\n",
            "Prediction = YEP, Actual = Sadge):\n",
            "Text: dogs do that, they take distance so their family doesnt suffer \n",
            "\n",
            "\n",
            "Prediction = YEP, Actual = monkaOMEGA):\n",
            "Text:  check your cock its gone\n",
            "\n",
            "\n",
            "Prediction = YEP, Actual = Pog):\n",
            "Text:  thats why hes the goat\n",
            "\n",
            "\n",
            "Prediction = YEP, Actual = 4Head):\n",
            "Text: dick all in yo stomach \n",
            "\n",
            "\n",
            "Prediction = YEP, Actual = Pog):\n",
            "Text: because it is fucking amazing that's why \n",
            "\n",
            "\n"
          ]
        }
      ]
    },
    {
      "cell_type": "code",
      "source": [
        "select_predictions = (predictions_model.numpy() == 26)\n",
        "select_predictions = select_predictions * (test_labels == 26)\n",
        "\n",
        "for i in np.where(select_predictions)[0][:10]:\n",
        "      print('Prediction = %s, Actual = %s):\\nText: %s\\n\\n' %\n",
        "            (target_names[predictions_model[i]],\n",
        "            target_names[test_labels[i]],\n",
        "            test_texts[i][:1000].replace('\\n', ' ')))"
      ],
      "metadata": {
        "colab": {
          "base_uri": "https://localhost:8080/"
        },
        "id": "1gEzN8pTGj9S",
        "outputId": "ad800b59-c07b-4974-d7e5-ffa84a882d28"
      },
      "execution_count": 52,
      "outputs": [
        {
          "output_type": "stream",
          "name": "stdout",
          "text": [
            "Prediction = YEP, Actual = YEP):\n",
            "Text: w!  watch w!  watch w!  watch w!  watch w!  watch w!  watch w!  watch w!  watch w!  watch w!  watch w!  watch\n",
            "\n",
            "\n",
            "Prediction = YEP, Actual = YEP):\n",
            "Text:  i'll show them a cock grave \n",
            "\n",
            "\n",
            "Prediction = YEP, Actual = YEP):\n",
            "Text:  thats bill tin megalul\n",
            "\n",
            "\n",
            "Prediction = YEP, Actual = YEP):\n",
            "Text: hating is easy \n",
            "\n",
            "\n",
            "Prediction = YEP, Actual = YEP):\n",
            "Text:  thats a timing megalul 󠀀\n",
            "\n",
            "\n",
            "Prediction = YEP, Actual = YEP):\n",
            "Text: someone say cock \n",
            "\n",
            "\n",
            "Prediction = YEP, Actual = YEP):\n",
            "Text: , that's cum sade\n",
            "\n",
            "\n",
            "Prediction = YEP, Actual = YEP):\n",
            "Text:  breaks are good\n",
            "\n",
            "\n",
            "Prediction = YEP, Actual = YEP):\n",
            "Text: megalul  thats a bill tin 😂  thats a bill tin\n",
            "\n",
            "\n",
            "Prediction = YEP, Actual = YEP):\n",
            "Text: homelessness is tramatic \n",
            "\n",
            "\n"
          ]
        }
      ]
    },
    {
      "cell_type": "markdown",
      "source": [
        "Pog"
      ],
      "metadata": {
        "id": "RUStxQVIG_Aj"
      }
    },
    {
      "cell_type": "code",
      "source": [
        "select_predictions = (predictions_model.numpy() == 18)\n",
        "select_predictions = select_predictions * (test_labels != 18)\n",
        "\n",
        "for i in np.where(select_predictions)[0][:10]:\n",
        "      print('Prediction = %s, Actual = %s):\\nText: %s\\n\\n' %\n",
        "            (target_names[predictions_model[i]],\n",
        "            target_names[test_labels[i]],\n",
        "            test_texts[i][:1000].replace('\\n', ' ')))"
      ],
      "metadata": {
        "colab": {
          "base_uri": "https://localhost:8080/"
        },
        "id": "wEKiZHIMG_3u",
        "outputId": "0c5645da-269d-4c31-b731-06ba70f6a011"
      },
      "execution_count": 53,
      "outputs": [
        {
          "output_type": "stream",
          "name": "stdout",
          "text": [
            "Prediction = Pog, Actual = FeelsBadMan):\n",
            "Text: faker  end of an era\n",
            "\n",
            "\n",
            "Prediction = Pog, Actual = PepeLaugh):\n",
            "Text: 15 hour stream \n",
            "\n",
            "\n",
            "Prediction = Pog, Actual = NotLikeThis):\n",
            "Text: figuratively777 subscribed with prime. they've subscribed for 10 months! critrolestorm \n",
            "\n",
            "\n",
            "Prediction = Pog, Actual = Sadge):\n",
            "Text:   dinosaurs   dinosaurs   dinosaurs   dinosaurs   dinosaurs   dinosaurs   dinosaurs   dinosaurs   dinosaurs\n",
            "\n",
            "\n",
            "Prediction = Pog, Actual = WeirdChamp):\n",
            "Text: open a hosipital    open a hosipital    open a hosipital    open a hosipital    open a hosipital    open a hosipital    open a hosipital  \n",
            "\n",
            "\n",
            "Prediction = Pog, Actual = YEP):\n",
            "Text: an expansion dlc \n",
            "\n",
            "\n",
            "Prediction = Pog, Actual = monkaOMEGA):\n",
            "Text:  this could be it\n",
            "\n",
            "\n",
            "Prediction = Pog, Actual = PogU):\n",
            "Text: lord of the rings \n",
            "\n",
            "\n",
            "Prediction = Pog, Actual = PogU):\n",
            "Text: penis rocket pcs \n",
            "\n",
            "\n",
            "Prediction = Pog, Actual = Kreygasm):\n",
            "Text: ezlivi my idol   so good \n",
            "\n",
            "\n"
          ]
        }
      ]
    },
    {
      "cell_type": "code",
      "source": [
        "select_predictions = (predictions_model.numpy() == 18)\n",
        "select_predictions = select_predictions * (test_labels == 18)\n",
        "\n",
        "for i in np.where(select_predictions)[0][:10]:\n",
        "      print('Prediction = %s, Actual = %s):\\nText: %s\\n\\n' %\n",
        "            (target_names[predictions_model[i]],\n",
        "            target_names[test_labels[i]],\n",
        "            test_texts[i][:1000].replace('\\n', ' ')))"
      ],
      "metadata": {
        "colab": {
          "base_uri": "https://localhost:8080/"
        },
        "id": "ji4bHUWoHADE",
        "outputId": "e92675a1-2110-4542-bb5a-f56ff205ff2b"
      },
      "execution_count": 54,
      "outputs": [
        {
          "output_type": "stream",
          "name": "stdout",
          "text": [
            "Prediction = Pog, Actual = Pog):\n",
            "Text: free curse rooms \n",
            "\n",
            "\n",
            "Prediction = Pog, Actual = Pog):\n",
            "Text: we love destiny  we love destiny  we love destiny  we love destiny  we love destiny  we love destiny  we love destiny  we love destiny \n",
            "\n",
            "\n",
            "Prediction = Pog, Actual = Pog):\n",
            "Text: leave penta  leave penta  leave penta  aintnoway leave penta  leave penta  leave penta  aintnoway\n",
            "\n",
            "\n",
            "Prediction = Pog, Actual = Pog):\n",
            "Text: +1 quadrillion veiwers \n",
            "\n",
            "\n",
            "Prediction = Pog, Actual = Pog):\n",
            "Text: instant triple buyback \n",
            "\n",
            "\n",
            "Prediction = Pog, Actual = Pog):\n",
            "Text:  @dreamerstorryteller  @dreamerstorryteller  @dreamerstorryteller  @dreamerstorryteller  @dreamerstorryteller  @dreamerstorryteller  @dreamerstorryteller  @dreamerstorryteller  @dreamerstorryteller  @dreamerstorryteller  @dreamerstorryteller\n",
            "\n",
            "\n",
            "Prediction = Pog, Actual = Pog):\n",
            "Text: congrats on the new place. looks awesome \n",
            "\n",
            "\n",
            "Prediction = Pog, Actual = Pog):\n",
            "Text: 250k on win \n",
            "\n",
            "\n",
            "Prediction = Pog, Actual = Pog):\n",
            "Text: world first death \n",
            "\n",
            "\n",
            "Prediction = Pog, Actual = Pog):\n",
            "Text: kick cock cam  kick cock cam  kick cock cam  kick cock cam  kick cock cam  kick cock cam  kick cock cam  kick cock cam  kick cock cam  kick cock cam \n",
            "\n",
            "\n"
          ]
        }
      ]
    },
    {
      "cell_type": "code",
      "source": [
        "select_predictions = (predictions_model.numpy() == 18)\n",
        "select_predictions = select_predictions * (test_labels == 18)\n",
        "\n",
        "for i in np.where(select_predictions)[0][10:20]:\n",
        "      print('Prediction = %s, Actual = %s):\\nText: %s\\n\\n' %\n",
        "            (target_names[predictions_model[i]],\n",
        "            target_names[test_labels[i]],\n",
        "            test_texts[i][:1000].replace('\\n', ' ')))"
      ],
      "metadata": {
        "colab": {
          "base_uri": "https://localhost:8080/"
        },
        "id": "-ZZreM4ZNiFE",
        "outputId": "42abb58c-e752-42a8-ba10-084b57244ced"
      },
      "execution_count": 55,
      "outputs": [
        {
          "output_type": "stream",
          "name": "stdout",
          "text": [
            "Prediction = Pog, Actual = Pog):\n",
            "Text: qb club 98 \n",
            "\n",
            "\n",
            "Prediction = Pog, Actual = Pog):\n",
            "Text: world war wick \n",
            "\n",
            "\n",
            "Prediction = Pog, Actual = Pog):\n",
            "Text: we're on the board \n",
            "\n",
            "\n",
            "Prediction = Pog, Actual = Pog):\n",
            "Text: 3 hour stream mark \n",
            "\n",
            "\n",
            "Prediction = Pog, Actual = Pog):\n",
            "Text: new jerma lore \n",
            "\n",
            "\n",
            "Prediction = Pog, Actual = Pog):\n",
            "Text: johnny depp from wish.com \n",
            "\n",
            "\n",
            "Prediction = Pog, Actual = Pog):\n",
            "Text:  the dad is back\n",
            "\n",
            "\n",
            "Prediction = Pog, Actual = Pog):\n",
            "Text:  i was here\n",
            "\n",
            "\n",
            "Prediction = Pog, Actual = Pog):\n",
            "Text: i was here   \n",
            "\n",
            "\n",
            "Prediction = Pog, Actual = Pog):\n",
            "Text: moment nft  moment nft  moment nft  moment nft  moment nft  moment nft \n",
            "\n",
            "\n"
          ]
        }
      ]
    },
    {
      "cell_type": "markdown",
      "source": [
        "AYAYA"
      ],
      "metadata": {
        "id": "37uZxM4MQXv0"
      }
    },
    {
      "cell_type": "code",
      "source": [
        "select_predictions = (predictions_model.numpy() == 3)\n",
        "select_predictions = select_predictions * (test_labels != 3)\n",
        "\n",
        "for i in np.where(select_predictions)[0][10:20]:\n",
        "      print('Prediction = %s, Actual = %s):\\nText: %s\\n\\n' %\n",
        "            (target_names[predictions_model[i]],\n",
        "            target_names[test_labels[i]],\n",
        "            test_texts[i][:1000].replace('\\n', ' ')))"
      ],
      "metadata": {
        "colab": {
          "base_uri": "https://localhost:8080/"
        },
        "id": "lReJB9y3QX8b",
        "outputId": "02d8ed66-7fa6-4e33-87a3-c2aaf0cf3f15"
      },
      "execution_count": 80,
      "outputs": [
        {
          "output_type": "stream",
          "name": "stdout",
          "text": [
            "Prediction = AYAYA, Actual = DansGame):\n",
            "Text: move shit  eew\n",
            "\n",
            "\n",
            "Prediction = AYAYA, Actual = Kreygasm):\n",
            "Text: omg tensai is god \n",
            "\n",
            "\n",
            "Prediction = AYAYA, Actual = YEP):\n",
            "Text: @vis9ns ayaya in bed and youll win with every guy \n",
            "\n",
            "\n",
            "Prediction = AYAYA, Actual = PepeLaugh):\n",
            "Text: i heard it \n",
            "\n",
            "\n",
            "Prediction = AYAYA, Actual = Pog):\n",
            "Text: womp womp  womp womp  womp womp  womp womp  womp womp  womp womp  womp womp  womp womp  womp womp  womp womp  womp womp  womp womp  womp womp  womp womp \n",
            "\n",
            "\n",
            "Prediction = AYAYA, Actual = BibleThump):\n",
            "Text: i love uuu <3 \n",
            "\n",
            "\n",
            "Prediction = AYAYA, Actual = PogU):\n",
            "Text:  cute outfit rae!\n",
            "\n",
            "\n",
            "Prediction = AYAYA, Actual = monkaOMEGA):\n",
            "Text:  i heard it  i heard it  i heard it  i heard it\n",
            "\n",
            "\n",
            "Prediction = AYAYA, Actual = YEP):\n",
            "Text:  🫛 🥜 🚀 nyannswash\n",
            "\n",
            "\n",
            "Prediction = AYAYA, Actual = Kreygasm):\n",
            "Text: let us sup \n",
            "\n",
            "\n"
          ]
        }
      ]
    },
    {
      "cell_type": "code",
      "source": [
        "select_predictions = (predictions_model.numpy() == 3)\n",
        "select_predictions = select_predictions * (test_labels == 3)\n",
        "\n",
        "for i in np.where(select_predictions)[0][10:20]:\n",
        "      print('Prediction = %s, Actual = %s):\\nText: %s\\n\\n' %\n",
        "            (target_names[predictions_model[i]],\n",
        "            target_names[test_labels[i]],\n",
        "            test_texts[i][:1000].replace('\\n', ' ')))"
      ],
      "metadata": {
        "colab": {
          "base_uri": "https://localhost:8080/"
        },
        "id": "B-sVGKIFQJnt",
        "outputId": "b6a1a5a0-fcb5-4d2f-ba70-c74b3b3ffc19"
      },
      "execution_count": 79,
      "outputs": [
        {
          "output_type": "stream",
          "name": "stdout",
          "text": [
            "Prediction = AYAYA, Actual = AYAYA):\n",
            "Text: rogue this  fnatic that  i just want  a cute chat \n",
            "\n",
            "\n",
            "Prediction = AYAYA, Actual = AYAYA):\n",
            "Text:   ayayo   ayayo   ayayo\n",
            "\n",
            "\n",
            "Prediction = AYAYA, Actual = AYAYA):\n",
            "Text:  gomensai okasan ehehe  gomensai okasan ehehe  gomensai okasan ehehe  gomensai okasan ehehe\n",
            "\n",
            "\n",
            "Prediction = AYAYA, Actual = AYAYA):\n",
            "Text: @mister_doktor,  / <3\n",
            "\n",
            "\n",
            "Prediction = AYAYA, Actual = AYAYA):\n",
            "Text: moshi moshi 📞  running low on cuties 📞  need backup 📞  arigato 📞 \n",
            "\n",
            "\n",
            "Prediction = AYAYA, Actual = AYAYA):\n",
            "Text: cute team  clap\n",
            "\n",
            "\n",
            "Prediction = AYAYA, Actual = AYAYA):\n",
            "Text:  <3 eep <3 \n",
            "\n",
            "\n",
            "Prediction = AYAYA, Actual = AYAYA):\n",
            "Text: nyanpls   nyanpls  nyanpls  nyanpls  nyanpls  nyanpls  nyanpls  nyanpls  nyanpls \n",
            "\n",
            "\n",
            "Prediction = AYAYA, Actual = AYAYA):\n",
            "Text:  we won we won\n",
            "\n",
            "\n",
            "Prediction = AYAYA, Actual = AYAYA):\n",
            "Text:  investment in waifus\n",
            "\n",
            "\n"
          ]
        }
      ]
    },
    {
      "cell_type": "markdown",
      "source": [
        "POGU"
      ],
      "metadata": {
        "id": "T2tQe_UFQ0M-"
      }
    },
    {
      "cell_type": "code",
      "source": [
        "select_predictions = (predictions_model.numpy() == 20)\n",
        "select_predictions = select_predictions * (test_labels == 20)\n",
        "\n",
        "for i in np.where(select_predictions)[0][10:20]:\n",
        "      print('Prediction = %s, Actual = %s):\\nText: %s\\n\\n' %\n",
        "            (target_names[predictions_model[i]],\n",
        "            target_names[test_labels[i]],\n",
        "            test_texts[i][:1000].replace('\\n', ' ')))"
      ],
      "metadata": {
        "colab": {
          "base_uri": "https://localhost:8080/"
        },
        "id": "nK-ZvC7OQ1Cb",
        "outputId": "e74ddb73-1b20-42cd-8520-3d191b8f5a7b"
      },
      "execution_count": 81,
      "outputs": [
        {
          "output_type": "stream",
          "name": "stdout",
          "text": [
            "Prediction = PogU, Actual = PogU):\n",
            "Text: league of their own 2023  league of their own 2023  league of their own 2023  league of their own 2023  league of their own 2023  league of their own 2023 \n",
            "\n",
            "\n",
            "Prediction = PogU, Actual = PogU):\n",
            "Text: ls saved fnc \n",
            "\n",
            "\n",
            "Prediction = PogU, Actual = PogU):\n",
            "Text: themajorityreport just raided with 46 viewers! \n",
            "\n",
            "\n",
            "Prediction = PogU, Actual = PogU):\n",
            "Text:  play it  play it  play it\n",
            "\n",
            "\n",
            "Prediction = PogU, Actual = PogU):\n",
            "Text: house tour at 15000  house tour at 15000  house tour at 15000  house tour at 15000  house tour at 15000  house tour at 15000  house tour at 15000 \n",
            "\n",
            "\n",
            "Prediction = PogU, Actual = PogU):\n",
            "Text:  saved  saved  saved  saved\n",
            "\n",
            "\n",
            "Prediction = PogU, Actual = PogU):\n",
            "Text:  league of their own 2023  league of their own 2023  league of their own 2023  league of their own 2023\n",
            "\n",
            "\n",
            "Prediction = PogU, Actual = PogU):\n",
            "Text:  steve aoki  steve aoki  steve aoki  steve aoki  steve aoki  steve aoki  steve aoki  steve aoki  steve aoki  steve aoki  steve aoki  steve aoki  steve aoki\n",
            "\n",
            "\n",
            "Prediction = PogU, Actual = PogU):\n",
            "Text: @xqc 60 seconds  60 seconds  60 seconds  60 seconds  60 seconds  60 seconds \n",
            "\n",
            "\n",
            "Prediction = PogU, Actual = PogU):\n",
            "Text: play resident evil 4 demo  play resident evil 4 demo  play resident evil 4 demo  play resident evil 4 demo  play resident evil 4 demo  play resident evil 4 demo  play resident evil 4 demo  play resident evil 4 demo \n",
            "\n",
            "\n"
          ]
        }
      ]
    },
    {
      "cell_type": "code",
      "source": [
        "select_predictions = (predictions_model.numpy() == 20)\n",
        "select_predictions = select_predictions * (test_labels != 20)\n",
        "\n",
        "for i in np.where(select_predictions)[0][0:20]:\n",
        "      print('Prediction = %s, Actual = %s):\\nText: %s\\n\\n' %\n",
        "            (target_names[predictions_model[i]],\n",
        "            target_names[test_labels[i]],\n",
        "            test_texts[i][:1000].replace('\\n', ' ')))"
      ],
      "metadata": {
        "colab": {
          "base_uri": "https://localhost:8080/"
        },
        "id": "MSr0pCdGQ32s",
        "outputId": "1f98baa8-aa30-4da9-a3da-fe621cd7ad72"
      },
      "execution_count": 83,
      "outputs": [
        {
          "output_type": "stream",
          "name": "stdout",
          "text": [
            "Prediction = PogU, Actual = Sadge):\n",
            "Text: he extracted  he extracted  he extracted  he extracted  he extracted \n",
            "\n",
            "\n",
            "Prediction = PogU, Actual = Pog):\n",
            "Text:  play rocket league!!\n",
            "\n",
            "\n",
            "Prediction = PogU, Actual = Pog):\n",
            "Text: ls saved fnc \n",
            "\n",
            "\n",
            "Prediction = PogU, Actual = LUL):\n",
            "Text: justin tryin to teach boomers how to play rocket league  justin tryin to teach boomers how to play rocket league  justin tryin to teach boomers how to play rocket league  justin tryin to teach boomers how to play rocket league \n",
            "\n",
            "\n",
            "Prediction = PogU, Actual = PepeLaugh):\n",
            "Text: didnt save  didnt save  didnt save  didnt save  didnt save  .\n",
            "\n",
            "\n",
            "Prediction = PogU, Actual = ResidentSleeper):\n",
            "Text: pre recorded  pre recorded  pre recorded  pre recorded  pre recorded  pre recorded  pre recorded  pre recorded  pre recorded  pre recorded  pre recorded  pre recorded  pre recorded \n",
            "\n",
            "\n",
            "Prediction = PogU, Actual = Pog):\n",
            "Text: ls saved fnatic \n",
            "\n",
            "\n",
            "Prediction = PogU, Actual = gachiBASS):\n",
            "Text:  dance  dance  dance  dance\n",
            "\n",
            "\n",
            "Prediction = PogU, Actual = PauseChamp):\n",
            "Text:  fbblock winnable  fbblock winnable  fbblock winnable  fbblock winnable  󠀀\n",
            "\n",
            "\n",
            "Prediction = PogU, Actual = Pog):\n",
            "Text: ls saved fnc \n",
            "\n",
            "\n",
            "Prediction = PogU, Actual = TriHard):\n",
            "Text:  i see me\n",
            "\n",
            "\n",
            "Prediction = PogU, Actual = Kappa):\n",
            "Text: raid xqc peeporiot \n",
            "\n",
            "\n",
            "Prediction = PogU, Actual = Pog):\n",
            "Text: i see myself \n",
            "\n",
            "\n",
            "Prediction = PogU, Actual = WeirdChamp):\n",
            "Text: @xqc do another pool stream \n",
            "\n",
            "\n",
            "Prediction = PogU, Actual = Pog):\n",
            "Text: t1 doing the triple axes  t1 doing the triple axes  t1 doing the triple axes  t1 doing the triple axes \n",
            "\n",
            "\n",
            "Prediction = PogU, Actual = AYAYA):\n",
            "Text: play blue archive  play blue archive  play blue archive  play blue archive  play blue archive  play blue archive  play blue archive \n",
            "\n",
            "\n",
            "Prediction = PogU, Actual = KEKW):\n",
            "Text:  @tyler1__play_____varlety   @tyler1__play_____varlety   @tyler1__play_____varlety   @tyler1__play_____varlety   @tyler1__play_____varlety  v\n",
            "\n",
            "\n",
            "Prediction = PogU, Actual = WeirdChamp):\n",
            "Text: intel 2021  intel 2021  intel 2021  intel 2021 \n",
            "\n",
            "\n",
            "Prediction = PogU, Actual = PogChamp):\n",
            "Text: ls saved fnatic \n",
            "\n",
            "\n",
            "Prediction = PogU, Actual = Pog):\n",
            "Text: cities skylines  cities skylines  cities skylines  cities skylines  cities skylines  cities skylines  cities skylines  cities skylines  cities skylines \n",
            "\n",
            "\n"
          ]
        }
      ]
    },
    {
      "cell_type": "code",
      "source": [
        "select_predictions = (predictions_model.numpy() == 22)\n",
        "select_predictions = select_predictions * (test_labels == 22)\n",
        "\n",
        "for i in np.where(select_predictions)[0][0:20]:\n",
        "      print('Prediction = %s, Actual = %s):\\nText: %s\\n\\n' %\n",
        "            (target_names[predictions_model[i]],\n",
        "            target_names[test_labels[i]],\n",
        "            test_texts[i][:1000].replace('\\n', ' ')))"
      ],
      "metadata": {
        "colab": {
          "base_uri": "https://localhost:8080/"
        },
        "id": "zf1dfAs5Q1Jo",
        "outputId": "3bffc2b0-7c14-4533-cd23-124c675d234a"
      },
      "execution_count": 31,
      "outputs": [
        {
          "output_type": "stream",
          "name": "stdout",
          "text": [
            "Prediction = Sadge, Actual = Sadge):\n",
            "Text:  im sorry man, hope whatver it is thats going on gets better or that you have people around you to help\n",
            "\n",
            "\n",
            "Prediction = Sadge, Actual = Sadge):\n",
            "Text: i miss moon2windblowingsheets \n",
            "\n",
            "\n",
            "Prediction = Sadge, Actual = Sadge):\n",
            "Text: i cant gamba \n",
            "\n",
            "\n",
            "Prediction = Sadge, Actual = Sadge):\n",
            "Text: @tengo_6  wrangler's being fired shortly.\n",
            "\n",
            "\n",
            "Prediction = Sadge, Actual = Sadge):\n",
            "Text: ellie so mean \n",
            "\n",
            "\n",
            "Prediction = Sadge, Actual = Sadge):\n",
            "Text: @tmcflurry now i can't work in the kitchen \n",
            "\n",
            "\n",
            "Prediction = Sadge, Actual = Sadge):\n",
            "Text: 📜✍️  𝓓𝓮𝓪𝓻 𝓓𝓲𝓪𝓻𝔂, 𝓽𝓱𝓮 𝔂𝓮𝓪𝓻 𝓲𝓼 2047, 𝓕𝓸𝓻𝓼𝓮𝓷 𝓴𝓮𝓮𝓹𝓼 𝓼𝓪𝔂𝓲𝓷𝓰 𝓽𝓸 𝓱𝓲𝓼 𝓬𝓵𝓸𝓷𝓮𝓼: \"𝓣𝓸𝓭𝓪𝔂 𝓲𝓼 𝓽𝓱𝓮 𝓭𝓪𝔂\", 𝓸𝓿𝓮𝓻 𝓪𝓷𝓭 𝓸𝓿𝓮𝓻. 𝓑𝓾𝓽 𝓱𝓮 𝓭𝓸𝓮𝓼𝓷'𝓽 𝓮𝓿𝓮𝓷 𝓹𝓵𝓪𝔂 𝓜𝓲𝓷𝓮𝓬𝓻𝓪𝓯𝓽 𝓪𝓷𝔂𝓶𝓸𝓻𝓮.ů§\n",
            "\n",
            "\n",
            "Prediction = Sadge, Actual = Sadge):\n",
            "Text: hes retiring \\\n",
            "\n",
            "\n",
            "Prediction = Sadge, Actual = Sadge):\n",
            "Text:  agree sadly, he deserves it\n",
            "\n",
            "\n",
            "Prediction = Sadge, Actual = Sadge):\n",
            "Text: i got nuked off twitter \n",
            "\n",
            "\n",
            "Prediction = Sadge, Actual = Sadge):\n",
            "Text: me when i am the am ruined by experiences \n",
            "\n",
            "\n",
            "Prediction = Sadge, Actual = Sadge):\n",
            "Text:  no furry today\n",
            "\n",
            "\n",
            "Prediction = Sadge, Actual = Sadge):\n",
            "Text: i had a nightmare \n",
            "\n",
            "\n",
            "Prediction = Sadge, Actual = Sadge):\n",
            "Text:  i wish nova was here for this pump\n",
            "\n",
            "\n",
            "Prediction = Sadge, Actual = Sadge):\n",
            "Text: too much cum please stop chat  modtime too much cum please stop chat  modtime too much cum please stop chat  modtime too much cum please stop chat  modtime\n",
            "\n",
            "\n",
            "Prediction = Sadge, Actual = Sadge):\n",
            "Text:  bye lil piggies\n",
            "\n",
            "\n",
            "Prediction = Sadge, Actual = Sadge):\n",
            "Text: no nancy drew \n",
            "\n",
            "\n",
            "Prediction = Sadge, Actual = Sadge):\n",
            "Text:  tone hurt my feelings\n",
            "\n",
            "\n",
            "Prediction = Sadge, Actual = Sadge):\n",
            "Text:  we got robbed\n",
            "\n",
            "\n",
            "Prediction = Sadge, Actual = Sadge):\n",
            "Text:  sorry for your friend transgenderpride\n",
            "\n",
            "\n"
          ]
        }
      ]
    }
  ],
  "metadata": {
    "accelerator": "GPU",
    "colab": {
      "provenance": []
    },
    "gpuClass": "standard",
    "kernelspec": {
      "display_name": "Python 3",
      "language": "python",
      "name": "python3"
    },
    "language_info": {
      "codemirror_mode": {
        "name": "ipython",
        "version": 3
      },
      "file_extension": ".py",
      "mimetype": "text/x-python",
      "name": "python",
      "nbconvert_exporter": "python",
      "pygments_lexer": "ipython3",
      "version": "3.8.5"
    },
    "widgets": {
      "application/vnd.jupyter.widget-state+json": {
        "fd4079be0c9543c3aa8535550e16c655": {
          "model_module": "@jupyter-widgets/controls",
          "model_name": "HBoxModel",
          "model_module_version": "1.5.0",
          "state": {
            "_dom_classes": [],
            "_model_module": "@jupyter-widgets/controls",
            "_model_module_version": "1.5.0",
            "_model_name": "HBoxModel",
            "_view_count": null,
            "_view_module": "@jupyter-widgets/controls",
            "_view_module_version": "1.5.0",
            "_view_name": "HBoxView",
            "box_style": "",
            "children": [
              "IPY_MODEL_a3ee44c5666a48d7b0d244723ad042ee",
              "IPY_MODEL_63d46a9d7c104ddd984b19d65cbb6d2f",
              "IPY_MODEL_942d43f749d740b9b5e78a2492b0b15d"
            ],
            "layout": "IPY_MODEL_2c9a03c9d0774a99ab5d291b38d20260"
          }
        },
        "a3ee44c5666a48d7b0d244723ad042ee": {
          "model_module": "@jupyter-widgets/controls",
          "model_name": "HTMLModel",
          "model_module_version": "1.5.0",
          "state": {
            "_dom_classes": [],
            "_model_module": "@jupyter-widgets/controls",
            "_model_module_version": "1.5.0",
            "_model_name": "HTMLModel",
            "_view_count": null,
            "_view_module": "@jupyter-widgets/controls",
            "_view_module_version": "1.5.0",
            "_view_name": "HTMLView",
            "description": "",
            "description_tooltip": null,
            "layout": "IPY_MODEL_27992e1a8326456eb94e25394207ba8c",
            "placeholder": "​",
            "style": "IPY_MODEL_2ade8e6a8b4e47288d65a11f1ab67768",
            "value": "Downloading (…)solve/main/vocab.txt: 100%"
          }
        },
        "63d46a9d7c104ddd984b19d65cbb6d2f": {
          "model_module": "@jupyter-widgets/controls",
          "model_name": "FloatProgressModel",
          "model_module_version": "1.5.0",
          "state": {
            "_dom_classes": [],
            "_model_module": "@jupyter-widgets/controls",
            "_model_module_version": "1.5.0",
            "_model_name": "FloatProgressModel",
            "_view_count": null,
            "_view_module": "@jupyter-widgets/controls",
            "_view_module_version": "1.5.0",
            "_view_name": "ProgressView",
            "bar_style": "success",
            "description": "",
            "description_tooltip": null,
            "layout": "IPY_MODEL_fd56b13bba634677986360e50125e9e1",
            "max": 213450,
            "min": 0,
            "orientation": "horizontal",
            "style": "IPY_MODEL_4dbcd889d6f1470fb68143dc02641bce",
            "value": 213450
          }
        },
        "942d43f749d740b9b5e78a2492b0b15d": {
          "model_module": "@jupyter-widgets/controls",
          "model_name": "HTMLModel",
          "model_module_version": "1.5.0",
          "state": {
            "_dom_classes": [],
            "_model_module": "@jupyter-widgets/controls",
            "_model_module_version": "1.5.0",
            "_model_name": "HTMLModel",
            "_view_count": null,
            "_view_module": "@jupyter-widgets/controls",
            "_view_module_version": "1.5.0",
            "_view_name": "HTMLView",
            "description": "",
            "description_tooltip": null,
            "layout": "IPY_MODEL_a9b39dfe347a44a097b6434e955943aa",
            "placeholder": "​",
            "style": "IPY_MODEL_4e1ed0a51a1049caa401dbc79ef46674",
            "value": " 213k/213k [00:00&lt;00:00, 1.65MB/s]"
          }
        },
        "2c9a03c9d0774a99ab5d291b38d20260": {
          "model_module": "@jupyter-widgets/base",
          "model_name": "LayoutModel",
          "model_module_version": "1.2.0",
          "state": {
            "_model_module": "@jupyter-widgets/base",
            "_model_module_version": "1.2.0",
            "_model_name": "LayoutModel",
            "_view_count": null,
            "_view_module": "@jupyter-widgets/base",
            "_view_module_version": "1.2.0",
            "_view_name": "LayoutView",
            "align_content": null,
            "align_items": null,
            "align_self": null,
            "border": null,
            "bottom": null,
            "display": null,
            "flex": null,
            "flex_flow": null,
            "grid_area": null,
            "grid_auto_columns": null,
            "grid_auto_flow": null,
            "grid_auto_rows": null,
            "grid_column": null,
            "grid_gap": null,
            "grid_row": null,
            "grid_template_areas": null,
            "grid_template_columns": null,
            "grid_template_rows": null,
            "height": null,
            "justify_content": null,
            "justify_items": null,
            "left": null,
            "margin": null,
            "max_height": null,
            "max_width": null,
            "min_height": null,
            "min_width": null,
            "object_fit": null,
            "object_position": null,
            "order": null,
            "overflow": null,
            "overflow_x": null,
            "overflow_y": null,
            "padding": null,
            "right": null,
            "top": null,
            "visibility": null,
            "width": null
          }
        },
        "27992e1a8326456eb94e25394207ba8c": {
          "model_module": "@jupyter-widgets/base",
          "model_name": "LayoutModel",
          "model_module_version": "1.2.0",
          "state": {
            "_model_module": "@jupyter-widgets/base",
            "_model_module_version": "1.2.0",
            "_model_name": "LayoutModel",
            "_view_count": null,
            "_view_module": "@jupyter-widgets/base",
            "_view_module_version": "1.2.0",
            "_view_name": "LayoutView",
            "align_content": null,
            "align_items": null,
            "align_self": null,
            "border": null,
            "bottom": null,
            "display": null,
            "flex": null,
            "flex_flow": null,
            "grid_area": null,
            "grid_auto_columns": null,
            "grid_auto_flow": null,
            "grid_auto_rows": null,
            "grid_column": null,
            "grid_gap": null,
            "grid_row": null,
            "grid_template_areas": null,
            "grid_template_columns": null,
            "grid_template_rows": null,
            "height": null,
            "justify_content": null,
            "justify_items": null,
            "left": null,
            "margin": null,
            "max_height": null,
            "max_width": null,
            "min_height": null,
            "min_width": null,
            "object_fit": null,
            "object_position": null,
            "order": null,
            "overflow": null,
            "overflow_x": null,
            "overflow_y": null,
            "padding": null,
            "right": null,
            "top": null,
            "visibility": null,
            "width": null
          }
        },
        "2ade8e6a8b4e47288d65a11f1ab67768": {
          "model_module": "@jupyter-widgets/controls",
          "model_name": "DescriptionStyleModel",
          "model_module_version": "1.5.0",
          "state": {
            "_model_module": "@jupyter-widgets/controls",
            "_model_module_version": "1.5.0",
            "_model_name": "DescriptionStyleModel",
            "_view_count": null,
            "_view_module": "@jupyter-widgets/base",
            "_view_module_version": "1.2.0",
            "_view_name": "StyleView",
            "description_width": ""
          }
        },
        "fd56b13bba634677986360e50125e9e1": {
          "model_module": "@jupyter-widgets/base",
          "model_name": "LayoutModel",
          "model_module_version": "1.2.0",
          "state": {
            "_model_module": "@jupyter-widgets/base",
            "_model_module_version": "1.2.0",
            "_model_name": "LayoutModel",
            "_view_count": null,
            "_view_module": "@jupyter-widgets/base",
            "_view_module_version": "1.2.0",
            "_view_name": "LayoutView",
            "align_content": null,
            "align_items": null,
            "align_self": null,
            "border": null,
            "bottom": null,
            "display": null,
            "flex": null,
            "flex_flow": null,
            "grid_area": null,
            "grid_auto_columns": null,
            "grid_auto_flow": null,
            "grid_auto_rows": null,
            "grid_column": null,
            "grid_gap": null,
            "grid_row": null,
            "grid_template_areas": null,
            "grid_template_columns": null,
            "grid_template_rows": null,
            "height": null,
            "justify_content": null,
            "justify_items": null,
            "left": null,
            "margin": null,
            "max_height": null,
            "max_width": null,
            "min_height": null,
            "min_width": null,
            "object_fit": null,
            "object_position": null,
            "order": null,
            "overflow": null,
            "overflow_x": null,
            "overflow_y": null,
            "padding": null,
            "right": null,
            "top": null,
            "visibility": null,
            "width": null
          }
        },
        "4dbcd889d6f1470fb68143dc02641bce": {
          "model_module": "@jupyter-widgets/controls",
          "model_name": "ProgressStyleModel",
          "model_module_version": "1.5.0",
          "state": {
            "_model_module": "@jupyter-widgets/controls",
            "_model_module_version": "1.5.0",
            "_model_name": "ProgressStyleModel",
            "_view_count": null,
            "_view_module": "@jupyter-widgets/base",
            "_view_module_version": "1.2.0",
            "_view_name": "StyleView",
            "bar_color": null,
            "description_width": ""
          }
        },
        "a9b39dfe347a44a097b6434e955943aa": {
          "model_module": "@jupyter-widgets/base",
          "model_name": "LayoutModel",
          "model_module_version": "1.2.0",
          "state": {
            "_model_module": "@jupyter-widgets/base",
            "_model_module_version": "1.2.0",
            "_model_name": "LayoutModel",
            "_view_count": null,
            "_view_module": "@jupyter-widgets/base",
            "_view_module_version": "1.2.0",
            "_view_name": "LayoutView",
            "align_content": null,
            "align_items": null,
            "align_self": null,
            "border": null,
            "bottom": null,
            "display": null,
            "flex": null,
            "flex_flow": null,
            "grid_area": null,
            "grid_auto_columns": null,
            "grid_auto_flow": null,
            "grid_auto_rows": null,
            "grid_column": null,
            "grid_gap": null,
            "grid_row": null,
            "grid_template_areas": null,
            "grid_template_columns": null,
            "grid_template_rows": null,
            "height": null,
            "justify_content": null,
            "justify_items": null,
            "left": null,
            "margin": null,
            "max_height": null,
            "max_width": null,
            "min_height": null,
            "min_width": null,
            "object_fit": null,
            "object_position": null,
            "order": null,
            "overflow": null,
            "overflow_x": null,
            "overflow_y": null,
            "padding": null,
            "right": null,
            "top": null,
            "visibility": null,
            "width": null
          }
        },
        "4e1ed0a51a1049caa401dbc79ef46674": {
          "model_module": "@jupyter-widgets/controls",
          "model_name": "DescriptionStyleModel",
          "model_module_version": "1.5.0",
          "state": {
            "_model_module": "@jupyter-widgets/controls",
            "_model_module_version": "1.5.0",
            "_model_name": "DescriptionStyleModel",
            "_view_count": null,
            "_view_module": "@jupyter-widgets/base",
            "_view_module_version": "1.2.0",
            "_view_name": "StyleView",
            "description_width": ""
          }
        },
        "e2418682ef344da19c37f379ae178db1": {
          "model_module": "@jupyter-widgets/controls",
          "model_name": "HBoxModel",
          "model_module_version": "1.5.0",
          "state": {
            "_dom_classes": [],
            "_model_module": "@jupyter-widgets/controls",
            "_model_module_version": "1.5.0",
            "_model_name": "HBoxModel",
            "_view_count": null,
            "_view_module": "@jupyter-widgets/controls",
            "_view_module_version": "1.5.0",
            "_view_name": "HBoxView",
            "box_style": "",
            "children": [
              "IPY_MODEL_437f0ab2234944bf8b19060458af92af",
              "IPY_MODEL_8f19c89c9d964c8bbaab1e4d3e8d71b1",
              "IPY_MODEL_81cd9343a028438bbce2081abcf4c00c"
            ],
            "layout": "IPY_MODEL_50349aff6b274b68a09a42f88ffe854b"
          }
        },
        "437f0ab2234944bf8b19060458af92af": {
          "model_module": "@jupyter-widgets/controls",
          "model_name": "HTMLModel",
          "model_module_version": "1.5.0",
          "state": {
            "_dom_classes": [],
            "_model_module": "@jupyter-widgets/controls",
            "_model_module_version": "1.5.0",
            "_model_name": "HTMLModel",
            "_view_count": null,
            "_view_module": "@jupyter-widgets/controls",
            "_view_module_version": "1.5.0",
            "_view_name": "HTMLView",
            "description": "",
            "description_tooltip": null,
            "layout": "IPY_MODEL_63e81d203a954a7faeb3596d4b80bc80",
            "placeholder": "​",
            "style": "IPY_MODEL_54be7b77d8364d2895ee18376c239fad",
            "value": "Downloading (…)okenizer_config.json: 100%"
          }
        },
        "8f19c89c9d964c8bbaab1e4d3e8d71b1": {
          "model_module": "@jupyter-widgets/controls",
          "model_name": "FloatProgressModel",
          "model_module_version": "1.5.0",
          "state": {
            "_dom_classes": [],
            "_model_module": "@jupyter-widgets/controls",
            "_model_module_version": "1.5.0",
            "_model_name": "FloatProgressModel",
            "_view_count": null,
            "_view_module": "@jupyter-widgets/controls",
            "_view_module_version": "1.5.0",
            "_view_name": "ProgressView",
            "bar_style": "success",
            "description": "",
            "description_tooltip": null,
            "layout": "IPY_MODEL_2c7bbf431ca040daae97e571e6f3a146",
            "max": 29,
            "min": 0,
            "orientation": "horizontal",
            "style": "IPY_MODEL_dc91b44c28ca4da280facdb0f6cb216e",
            "value": 29
          }
        },
        "81cd9343a028438bbce2081abcf4c00c": {
          "model_module": "@jupyter-widgets/controls",
          "model_name": "HTMLModel",
          "model_module_version": "1.5.0",
          "state": {
            "_dom_classes": [],
            "_model_module": "@jupyter-widgets/controls",
            "_model_module_version": "1.5.0",
            "_model_name": "HTMLModel",
            "_view_count": null,
            "_view_module": "@jupyter-widgets/controls",
            "_view_module_version": "1.5.0",
            "_view_name": "HTMLView",
            "description": "",
            "description_tooltip": null,
            "layout": "IPY_MODEL_c4990c1262f746b68298a428c75ab9ac",
            "placeholder": "​",
            "style": "IPY_MODEL_4fdc93511eeb4a2189abf912845a4dce",
            "value": " 29.0/29.0 [00:00&lt;00:00, 1.50kB/s]"
          }
        },
        "50349aff6b274b68a09a42f88ffe854b": {
          "model_module": "@jupyter-widgets/base",
          "model_name": "LayoutModel",
          "model_module_version": "1.2.0",
          "state": {
            "_model_module": "@jupyter-widgets/base",
            "_model_module_version": "1.2.0",
            "_model_name": "LayoutModel",
            "_view_count": null,
            "_view_module": "@jupyter-widgets/base",
            "_view_module_version": "1.2.0",
            "_view_name": "LayoutView",
            "align_content": null,
            "align_items": null,
            "align_self": null,
            "border": null,
            "bottom": null,
            "display": null,
            "flex": null,
            "flex_flow": null,
            "grid_area": null,
            "grid_auto_columns": null,
            "grid_auto_flow": null,
            "grid_auto_rows": null,
            "grid_column": null,
            "grid_gap": null,
            "grid_row": null,
            "grid_template_areas": null,
            "grid_template_columns": null,
            "grid_template_rows": null,
            "height": null,
            "justify_content": null,
            "justify_items": null,
            "left": null,
            "margin": null,
            "max_height": null,
            "max_width": null,
            "min_height": null,
            "min_width": null,
            "object_fit": null,
            "object_position": null,
            "order": null,
            "overflow": null,
            "overflow_x": null,
            "overflow_y": null,
            "padding": null,
            "right": null,
            "top": null,
            "visibility": null,
            "width": null
          }
        },
        "63e81d203a954a7faeb3596d4b80bc80": {
          "model_module": "@jupyter-widgets/base",
          "model_name": "LayoutModel",
          "model_module_version": "1.2.0",
          "state": {
            "_model_module": "@jupyter-widgets/base",
            "_model_module_version": "1.2.0",
            "_model_name": "LayoutModel",
            "_view_count": null,
            "_view_module": "@jupyter-widgets/base",
            "_view_module_version": "1.2.0",
            "_view_name": "LayoutView",
            "align_content": null,
            "align_items": null,
            "align_self": null,
            "border": null,
            "bottom": null,
            "display": null,
            "flex": null,
            "flex_flow": null,
            "grid_area": null,
            "grid_auto_columns": null,
            "grid_auto_flow": null,
            "grid_auto_rows": null,
            "grid_column": null,
            "grid_gap": null,
            "grid_row": null,
            "grid_template_areas": null,
            "grid_template_columns": null,
            "grid_template_rows": null,
            "height": null,
            "justify_content": null,
            "justify_items": null,
            "left": null,
            "margin": null,
            "max_height": null,
            "max_width": null,
            "min_height": null,
            "min_width": null,
            "object_fit": null,
            "object_position": null,
            "order": null,
            "overflow": null,
            "overflow_x": null,
            "overflow_y": null,
            "padding": null,
            "right": null,
            "top": null,
            "visibility": null,
            "width": null
          }
        },
        "54be7b77d8364d2895ee18376c239fad": {
          "model_module": "@jupyter-widgets/controls",
          "model_name": "DescriptionStyleModel",
          "model_module_version": "1.5.0",
          "state": {
            "_model_module": "@jupyter-widgets/controls",
            "_model_module_version": "1.5.0",
            "_model_name": "DescriptionStyleModel",
            "_view_count": null,
            "_view_module": "@jupyter-widgets/base",
            "_view_module_version": "1.2.0",
            "_view_name": "StyleView",
            "description_width": ""
          }
        },
        "2c7bbf431ca040daae97e571e6f3a146": {
          "model_module": "@jupyter-widgets/base",
          "model_name": "LayoutModel",
          "model_module_version": "1.2.0",
          "state": {
            "_model_module": "@jupyter-widgets/base",
            "_model_module_version": "1.2.0",
            "_model_name": "LayoutModel",
            "_view_count": null,
            "_view_module": "@jupyter-widgets/base",
            "_view_module_version": "1.2.0",
            "_view_name": "LayoutView",
            "align_content": null,
            "align_items": null,
            "align_self": null,
            "border": null,
            "bottom": null,
            "display": null,
            "flex": null,
            "flex_flow": null,
            "grid_area": null,
            "grid_auto_columns": null,
            "grid_auto_flow": null,
            "grid_auto_rows": null,
            "grid_column": null,
            "grid_gap": null,
            "grid_row": null,
            "grid_template_areas": null,
            "grid_template_columns": null,
            "grid_template_rows": null,
            "height": null,
            "justify_content": null,
            "justify_items": null,
            "left": null,
            "margin": null,
            "max_height": null,
            "max_width": null,
            "min_height": null,
            "min_width": null,
            "object_fit": null,
            "object_position": null,
            "order": null,
            "overflow": null,
            "overflow_x": null,
            "overflow_y": null,
            "padding": null,
            "right": null,
            "top": null,
            "visibility": null,
            "width": null
          }
        },
        "dc91b44c28ca4da280facdb0f6cb216e": {
          "model_module": "@jupyter-widgets/controls",
          "model_name": "ProgressStyleModel",
          "model_module_version": "1.5.0",
          "state": {
            "_model_module": "@jupyter-widgets/controls",
            "_model_module_version": "1.5.0",
            "_model_name": "ProgressStyleModel",
            "_view_count": null,
            "_view_module": "@jupyter-widgets/base",
            "_view_module_version": "1.2.0",
            "_view_name": "StyleView",
            "bar_color": null,
            "description_width": ""
          }
        },
        "c4990c1262f746b68298a428c75ab9ac": {
          "model_module": "@jupyter-widgets/base",
          "model_name": "LayoutModel",
          "model_module_version": "1.2.0",
          "state": {
            "_model_module": "@jupyter-widgets/base",
            "_model_module_version": "1.2.0",
            "_model_name": "LayoutModel",
            "_view_count": null,
            "_view_module": "@jupyter-widgets/base",
            "_view_module_version": "1.2.0",
            "_view_name": "LayoutView",
            "align_content": null,
            "align_items": null,
            "align_self": null,
            "border": null,
            "bottom": null,
            "display": null,
            "flex": null,
            "flex_flow": null,
            "grid_area": null,
            "grid_auto_columns": null,
            "grid_auto_flow": null,
            "grid_auto_rows": null,
            "grid_column": null,
            "grid_gap": null,
            "grid_row": null,
            "grid_template_areas": null,
            "grid_template_columns": null,
            "grid_template_rows": null,
            "height": null,
            "justify_content": null,
            "justify_items": null,
            "left": null,
            "margin": null,
            "max_height": null,
            "max_width": null,
            "min_height": null,
            "min_width": null,
            "object_fit": null,
            "object_position": null,
            "order": null,
            "overflow": null,
            "overflow_x": null,
            "overflow_y": null,
            "padding": null,
            "right": null,
            "top": null,
            "visibility": null,
            "width": null
          }
        },
        "4fdc93511eeb4a2189abf912845a4dce": {
          "model_module": "@jupyter-widgets/controls",
          "model_name": "DescriptionStyleModel",
          "model_module_version": "1.5.0",
          "state": {
            "_model_module": "@jupyter-widgets/controls",
            "_model_module_version": "1.5.0",
            "_model_name": "DescriptionStyleModel",
            "_view_count": null,
            "_view_module": "@jupyter-widgets/base",
            "_view_module_version": "1.2.0",
            "_view_name": "StyleView",
            "description_width": ""
          }
        },
        "2e3c74663fc84f828252a33cc3549130": {
          "model_module": "@jupyter-widgets/controls",
          "model_name": "HBoxModel",
          "model_module_version": "1.5.0",
          "state": {
            "_dom_classes": [],
            "_model_module": "@jupyter-widgets/controls",
            "_model_module_version": "1.5.0",
            "_model_name": "HBoxModel",
            "_view_count": null,
            "_view_module": "@jupyter-widgets/controls",
            "_view_module_version": "1.5.0",
            "_view_name": "HBoxView",
            "box_style": "",
            "children": [
              "IPY_MODEL_291f880d8b164dd2a01a933381344a01",
              "IPY_MODEL_66708420f68c4c98a39d4d075b211510",
              "IPY_MODEL_2fb0c057e733454497530ee820267abd"
            ],
            "layout": "IPY_MODEL_62da6003b832456a8bf0515ddf71b063"
          }
        },
        "291f880d8b164dd2a01a933381344a01": {
          "model_module": "@jupyter-widgets/controls",
          "model_name": "HTMLModel",
          "model_module_version": "1.5.0",
          "state": {
            "_dom_classes": [],
            "_model_module": "@jupyter-widgets/controls",
            "_model_module_version": "1.5.0",
            "_model_name": "HTMLModel",
            "_view_count": null,
            "_view_module": "@jupyter-widgets/controls",
            "_view_module_version": "1.5.0",
            "_view_name": "HTMLView",
            "description": "",
            "description_tooltip": null,
            "layout": "IPY_MODEL_0f11b87746bf48a49c57929d49416c17",
            "placeholder": "​",
            "style": "IPY_MODEL_c8c78e1ba0cf46e6a518b70319a431ee",
            "value": "Downloading (…)lve/main/config.json: 100%"
          }
        },
        "66708420f68c4c98a39d4d075b211510": {
          "model_module": "@jupyter-widgets/controls",
          "model_name": "FloatProgressModel",
          "model_module_version": "1.5.0",
          "state": {
            "_dom_classes": [],
            "_model_module": "@jupyter-widgets/controls",
            "_model_module_version": "1.5.0",
            "_model_name": "FloatProgressModel",
            "_view_count": null,
            "_view_module": "@jupyter-widgets/controls",
            "_view_module_version": "1.5.0",
            "_view_name": "ProgressView",
            "bar_style": "success",
            "description": "",
            "description_tooltip": null,
            "layout": "IPY_MODEL_4ddda787acac45cdacb82471881f0cbe",
            "max": 570,
            "min": 0,
            "orientation": "horizontal",
            "style": "IPY_MODEL_bbe32a9327e842fabfad6f8f782e57f0",
            "value": 570
          }
        },
        "2fb0c057e733454497530ee820267abd": {
          "model_module": "@jupyter-widgets/controls",
          "model_name": "HTMLModel",
          "model_module_version": "1.5.0",
          "state": {
            "_dom_classes": [],
            "_model_module": "@jupyter-widgets/controls",
            "_model_module_version": "1.5.0",
            "_model_name": "HTMLModel",
            "_view_count": null,
            "_view_module": "@jupyter-widgets/controls",
            "_view_module_version": "1.5.0",
            "_view_name": "HTMLView",
            "description": "",
            "description_tooltip": null,
            "layout": "IPY_MODEL_e61b1fa1cec6477ca64507c2f68ac0a4",
            "placeholder": "​",
            "style": "IPY_MODEL_be7bcca5e9334b79ba1d9d03d5eb9ac4",
            "value": " 570/570 [00:00&lt;00:00, 13.7kB/s]"
          }
        },
        "62da6003b832456a8bf0515ddf71b063": {
          "model_module": "@jupyter-widgets/base",
          "model_name": "LayoutModel",
          "model_module_version": "1.2.0",
          "state": {
            "_model_module": "@jupyter-widgets/base",
            "_model_module_version": "1.2.0",
            "_model_name": "LayoutModel",
            "_view_count": null,
            "_view_module": "@jupyter-widgets/base",
            "_view_module_version": "1.2.0",
            "_view_name": "LayoutView",
            "align_content": null,
            "align_items": null,
            "align_self": null,
            "border": null,
            "bottom": null,
            "display": null,
            "flex": null,
            "flex_flow": null,
            "grid_area": null,
            "grid_auto_columns": null,
            "grid_auto_flow": null,
            "grid_auto_rows": null,
            "grid_column": null,
            "grid_gap": null,
            "grid_row": null,
            "grid_template_areas": null,
            "grid_template_columns": null,
            "grid_template_rows": null,
            "height": null,
            "justify_content": null,
            "justify_items": null,
            "left": null,
            "margin": null,
            "max_height": null,
            "max_width": null,
            "min_height": null,
            "min_width": null,
            "object_fit": null,
            "object_position": null,
            "order": null,
            "overflow": null,
            "overflow_x": null,
            "overflow_y": null,
            "padding": null,
            "right": null,
            "top": null,
            "visibility": null,
            "width": null
          }
        },
        "0f11b87746bf48a49c57929d49416c17": {
          "model_module": "@jupyter-widgets/base",
          "model_name": "LayoutModel",
          "model_module_version": "1.2.0",
          "state": {
            "_model_module": "@jupyter-widgets/base",
            "_model_module_version": "1.2.0",
            "_model_name": "LayoutModel",
            "_view_count": null,
            "_view_module": "@jupyter-widgets/base",
            "_view_module_version": "1.2.0",
            "_view_name": "LayoutView",
            "align_content": null,
            "align_items": null,
            "align_self": null,
            "border": null,
            "bottom": null,
            "display": null,
            "flex": null,
            "flex_flow": null,
            "grid_area": null,
            "grid_auto_columns": null,
            "grid_auto_flow": null,
            "grid_auto_rows": null,
            "grid_column": null,
            "grid_gap": null,
            "grid_row": null,
            "grid_template_areas": null,
            "grid_template_columns": null,
            "grid_template_rows": null,
            "height": null,
            "justify_content": null,
            "justify_items": null,
            "left": null,
            "margin": null,
            "max_height": null,
            "max_width": null,
            "min_height": null,
            "min_width": null,
            "object_fit": null,
            "object_position": null,
            "order": null,
            "overflow": null,
            "overflow_x": null,
            "overflow_y": null,
            "padding": null,
            "right": null,
            "top": null,
            "visibility": null,
            "width": null
          }
        },
        "c8c78e1ba0cf46e6a518b70319a431ee": {
          "model_module": "@jupyter-widgets/controls",
          "model_name": "DescriptionStyleModel",
          "model_module_version": "1.5.0",
          "state": {
            "_model_module": "@jupyter-widgets/controls",
            "_model_module_version": "1.5.0",
            "_model_name": "DescriptionStyleModel",
            "_view_count": null,
            "_view_module": "@jupyter-widgets/base",
            "_view_module_version": "1.2.0",
            "_view_name": "StyleView",
            "description_width": ""
          }
        },
        "4ddda787acac45cdacb82471881f0cbe": {
          "model_module": "@jupyter-widgets/base",
          "model_name": "LayoutModel",
          "model_module_version": "1.2.0",
          "state": {
            "_model_module": "@jupyter-widgets/base",
            "_model_module_version": "1.2.0",
            "_model_name": "LayoutModel",
            "_view_count": null,
            "_view_module": "@jupyter-widgets/base",
            "_view_module_version": "1.2.0",
            "_view_name": "LayoutView",
            "align_content": null,
            "align_items": null,
            "align_self": null,
            "border": null,
            "bottom": null,
            "display": null,
            "flex": null,
            "flex_flow": null,
            "grid_area": null,
            "grid_auto_columns": null,
            "grid_auto_flow": null,
            "grid_auto_rows": null,
            "grid_column": null,
            "grid_gap": null,
            "grid_row": null,
            "grid_template_areas": null,
            "grid_template_columns": null,
            "grid_template_rows": null,
            "height": null,
            "justify_content": null,
            "justify_items": null,
            "left": null,
            "margin": null,
            "max_height": null,
            "max_width": null,
            "min_height": null,
            "min_width": null,
            "object_fit": null,
            "object_position": null,
            "order": null,
            "overflow": null,
            "overflow_x": null,
            "overflow_y": null,
            "padding": null,
            "right": null,
            "top": null,
            "visibility": null,
            "width": null
          }
        },
        "bbe32a9327e842fabfad6f8f782e57f0": {
          "model_module": "@jupyter-widgets/controls",
          "model_name": "ProgressStyleModel",
          "model_module_version": "1.5.0",
          "state": {
            "_model_module": "@jupyter-widgets/controls",
            "_model_module_version": "1.5.0",
            "_model_name": "ProgressStyleModel",
            "_view_count": null,
            "_view_module": "@jupyter-widgets/base",
            "_view_module_version": "1.2.0",
            "_view_name": "StyleView",
            "bar_color": null,
            "description_width": ""
          }
        },
        "e61b1fa1cec6477ca64507c2f68ac0a4": {
          "model_module": "@jupyter-widgets/base",
          "model_name": "LayoutModel",
          "model_module_version": "1.2.0",
          "state": {
            "_model_module": "@jupyter-widgets/base",
            "_model_module_version": "1.2.0",
            "_model_name": "LayoutModel",
            "_view_count": null,
            "_view_module": "@jupyter-widgets/base",
            "_view_module_version": "1.2.0",
            "_view_name": "LayoutView",
            "align_content": null,
            "align_items": null,
            "align_self": null,
            "border": null,
            "bottom": null,
            "display": null,
            "flex": null,
            "flex_flow": null,
            "grid_area": null,
            "grid_auto_columns": null,
            "grid_auto_flow": null,
            "grid_auto_rows": null,
            "grid_column": null,
            "grid_gap": null,
            "grid_row": null,
            "grid_template_areas": null,
            "grid_template_columns": null,
            "grid_template_rows": null,
            "height": null,
            "justify_content": null,
            "justify_items": null,
            "left": null,
            "margin": null,
            "max_height": null,
            "max_width": null,
            "min_height": null,
            "min_width": null,
            "object_fit": null,
            "object_position": null,
            "order": null,
            "overflow": null,
            "overflow_x": null,
            "overflow_y": null,
            "padding": null,
            "right": null,
            "top": null,
            "visibility": null,
            "width": null
          }
        },
        "be7bcca5e9334b79ba1d9d03d5eb9ac4": {
          "model_module": "@jupyter-widgets/controls",
          "model_name": "DescriptionStyleModel",
          "model_module_version": "1.5.0",
          "state": {
            "_model_module": "@jupyter-widgets/controls",
            "_model_module_version": "1.5.0",
            "_model_name": "DescriptionStyleModel",
            "_view_count": null,
            "_view_module": "@jupyter-widgets/base",
            "_view_module_version": "1.2.0",
            "_view_name": "StyleView",
            "description_width": ""
          }
        },
        "c0331bb8191049ac8641caec307da728": {
          "model_module": "@jupyter-widgets/controls",
          "model_name": "HBoxModel",
          "model_module_version": "1.5.0",
          "state": {
            "_dom_classes": [],
            "_model_module": "@jupyter-widgets/controls",
            "_model_module_version": "1.5.0",
            "_model_name": "HBoxModel",
            "_view_count": null,
            "_view_module": "@jupyter-widgets/controls",
            "_view_module_version": "1.5.0",
            "_view_name": "HBoxView",
            "box_style": "",
            "children": [
              "IPY_MODEL_cb2bf7059e8a465c98ad9e255d276f8b",
              "IPY_MODEL_bcf435c31cbd448a93710a49f75ed095",
              "IPY_MODEL_171df9b1e2dc4966a4ac88cdbf993c94"
            ],
            "layout": "IPY_MODEL_b4405b8054ad414a8af2a1ad0bcfaf77"
          }
        },
        "cb2bf7059e8a465c98ad9e255d276f8b": {
          "model_module": "@jupyter-widgets/controls",
          "model_name": "HTMLModel",
          "model_module_version": "1.5.0",
          "state": {
            "_dom_classes": [],
            "_model_module": "@jupyter-widgets/controls",
            "_model_module_version": "1.5.0",
            "_model_name": "HTMLModel",
            "_view_count": null,
            "_view_module": "@jupyter-widgets/controls",
            "_view_module_version": "1.5.0",
            "_view_name": "HTMLView",
            "description": "",
            "description_tooltip": null,
            "layout": "IPY_MODEL_98dcdff056664a8292afd55da2ab256b",
            "placeholder": "​",
            "style": "IPY_MODEL_7b4d2c4b79b8402a9bf556a59535abb8",
            "value": "Downloading tf_model.h5: 100%"
          }
        },
        "bcf435c31cbd448a93710a49f75ed095": {
          "model_module": "@jupyter-widgets/controls",
          "model_name": "FloatProgressModel",
          "model_module_version": "1.5.0",
          "state": {
            "_dom_classes": [],
            "_model_module": "@jupyter-widgets/controls",
            "_model_module_version": "1.5.0",
            "_model_name": "FloatProgressModel",
            "_view_count": null,
            "_view_module": "@jupyter-widgets/controls",
            "_view_module_version": "1.5.0",
            "_view_name": "ProgressView",
            "bar_style": "success",
            "description": "",
            "description_tooltip": null,
            "layout": "IPY_MODEL_49f80a7616e14c9ebbdd9ed22c5da836",
            "max": 526681800,
            "min": 0,
            "orientation": "horizontal",
            "style": "IPY_MODEL_ebca9ee6ee15466eb0772a6c7e174822",
            "value": 526681800
          }
        },
        "171df9b1e2dc4966a4ac88cdbf993c94": {
          "model_module": "@jupyter-widgets/controls",
          "model_name": "HTMLModel",
          "model_module_version": "1.5.0",
          "state": {
            "_dom_classes": [],
            "_model_module": "@jupyter-widgets/controls",
            "_model_module_version": "1.5.0",
            "_model_name": "HTMLModel",
            "_view_count": null,
            "_view_module": "@jupyter-widgets/controls",
            "_view_module_version": "1.5.0",
            "_view_name": "HTMLView",
            "description": "",
            "description_tooltip": null,
            "layout": "IPY_MODEL_af78a3761d36457f8e43c7e4f69fe652",
            "placeholder": "​",
            "style": "IPY_MODEL_d3dc75ffd005420bb6bdd31fe45c12bc",
            "value": " 527M/527M [00:13&lt;00:00, 35.2MB/s]"
          }
        },
        "b4405b8054ad414a8af2a1ad0bcfaf77": {
          "model_module": "@jupyter-widgets/base",
          "model_name": "LayoutModel",
          "model_module_version": "1.2.0",
          "state": {
            "_model_module": "@jupyter-widgets/base",
            "_model_module_version": "1.2.0",
            "_model_name": "LayoutModel",
            "_view_count": null,
            "_view_module": "@jupyter-widgets/base",
            "_view_module_version": "1.2.0",
            "_view_name": "LayoutView",
            "align_content": null,
            "align_items": null,
            "align_self": null,
            "border": null,
            "bottom": null,
            "display": null,
            "flex": null,
            "flex_flow": null,
            "grid_area": null,
            "grid_auto_columns": null,
            "grid_auto_flow": null,
            "grid_auto_rows": null,
            "grid_column": null,
            "grid_gap": null,
            "grid_row": null,
            "grid_template_areas": null,
            "grid_template_columns": null,
            "grid_template_rows": null,
            "height": null,
            "justify_content": null,
            "justify_items": null,
            "left": null,
            "margin": null,
            "max_height": null,
            "max_width": null,
            "min_height": null,
            "min_width": null,
            "object_fit": null,
            "object_position": null,
            "order": null,
            "overflow": null,
            "overflow_x": null,
            "overflow_y": null,
            "padding": null,
            "right": null,
            "top": null,
            "visibility": null,
            "width": null
          }
        },
        "98dcdff056664a8292afd55da2ab256b": {
          "model_module": "@jupyter-widgets/base",
          "model_name": "LayoutModel",
          "model_module_version": "1.2.0",
          "state": {
            "_model_module": "@jupyter-widgets/base",
            "_model_module_version": "1.2.0",
            "_model_name": "LayoutModel",
            "_view_count": null,
            "_view_module": "@jupyter-widgets/base",
            "_view_module_version": "1.2.0",
            "_view_name": "LayoutView",
            "align_content": null,
            "align_items": null,
            "align_self": null,
            "border": null,
            "bottom": null,
            "display": null,
            "flex": null,
            "flex_flow": null,
            "grid_area": null,
            "grid_auto_columns": null,
            "grid_auto_flow": null,
            "grid_auto_rows": null,
            "grid_column": null,
            "grid_gap": null,
            "grid_row": null,
            "grid_template_areas": null,
            "grid_template_columns": null,
            "grid_template_rows": null,
            "height": null,
            "justify_content": null,
            "justify_items": null,
            "left": null,
            "margin": null,
            "max_height": null,
            "max_width": null,
            "min_height": null,
            "min_width": null,
            "object_fit": null,
            "object_position": null,
            "order": null,
            "overflow": null,
            "overflow_x": null,
            "overflow_y": null,
            "padding": null,
            "right": null,
            "top": null,
            "visibility": null,
            "width": null
          }
        },
        "7b4d2c4b79b8402a9bf556a59535abb8": {
          "model_module": "@jupyter-widgets/controls",
          "model_name": "DescriptionStyleModel",
          "model_module_version": "1.5.0",
          "state": {
            "_model_module": "@jupyter-widgets/controls",
            "_model_module_version": "1.5.0",
            "_model_name": "DescriptionStyleModel",
            "_view_count": null,
            "_view_module": "@jupyter-widgets/base",
            "_view_module_version": "1.2.0",
            "_view_name": "StyleView",
            "description_width": ""
          }
        },
        "49f80a7616e14c9ebbdd9ed22c5da836": {
          "model_module": "@jupyter-widgets/base",
          "model_name": "LayoutModel",
          "model_module_version": "1.2.0",
          "state": {
            "_model_module": "@jupyter-widgets/base",
            "_model_module_version": "1.2.0",
            "_model_name": "LayoutModel",
            "_view_count": null,
            "_view_module": "@jupyter-widgets/base",
            "_view_module_version": "1.2.0",
            "_view_name": "LayoutView",
            "align_content": null,
            "align_items": null,
            "align_self": null,
            "border": null,
            "bottom": null,
            "display": null,
            "flex": null,
            "flex_flow": null,
            "grid_area": null,
            "grid_auto_columns": null,
            "grid_auto_flow": null,
            "grid_auto_rows": null,
            "grid_column": null,
            "grid_gap": null,
            "grid_row": null,
            "grid_template_areas": null,
            "grid_template_columns": null,
            "grid_template_rows": null,
            "height": null,
            "justify_content": null,
            "justify_items": null,
            "left": null,
            "margin": null,
            "max_height": null,
            "max_width": null,
            "min_height": null,
            "min_width": null,
            "object_fit": null,
            "object_position": null,
            "order": null,
            "overflow": null,
            "overflow_x": null,
            "overflow_y": null,
            "padding": null,
            "right": null,
            "top": null,
            "visibility": null,
            "width": null
          }
        },
        "ebca9ee6ee15466eb0772a6c7e174822": {
          "model_module": "@jupyter-widgets/controls",
          "model_name": "ProgressStyleModel",
          "model_module_version": "1.5.0",
          "state": {
            "_model_module": "@jupyter-widgets/controls",
            "_model_module_version": "1.5.0",
            "_model_name": "ProgressStyleModel",
            "_view_count": null,
            "_view_module": "@jupyter-widgets/base",
            "_view_module_version": "1.2.0",
            "_view_name": "StyleView",
            "bar_color": null,
            "description_width": ""
          }
        },
        "af78a3761d36457f8e43c7e4f69fe652": {
          "model_module": "@jupyter-widgets/base",
          "model_name": "LayoutModel",
          "model_module_version": "1.2.0",
          "state": {
            "_model_module": "@jupyter-widgets/base",
            "_model_module_version": "1.2.0",
            "_model_name": "LayoutModel",
            "_view_count": null,
            "_view_module": "@jupyter-widgets/base",
            "_view_module_version": "1.2.0",
            "_view_name": "LayoutView",
            "align_content": null,
            "align_items": null,
            "align_self": null,
            "border": null,
            "bottom": null,
            "display": null,
            "flex": null,
            "flex_flow": null,
            "grid_area": null,
            "grid_auto_columns": null,
            "grid_auto_flow": null,
            "grid_auto_rows": null,
            "grid_column": null,
            "grid_gap": null,
            "grid_row": null,
            "grid_template_areas": null,
            "grid_template_columns": null,
            "grid_template_rows": null,
            "height": null,
            "justify_content": null,
            "justify_items": null,
            "left": null,
            "margin": null,
            "max_height": null,
            "max_width": null,
            "min_height": null,
            "min_width": null,
            "object_fit": null,
            "object_position": null,
            "order": null,
            "overflow": null,
            "overflow_x": null,
            "overflow_y": null,
            "padding": null,
            "right": null,
            "top": null,
            "visibility": null,
            "width": null
          }
        },
        "d3dc75ffd005420bb6bdd31fe45c12bc": {
          "model_module": "@jupyter-widgets/controls",
          "model_name": "DescriptionStyleModel",
          "model_module_version": "1.5.0",
          "state": {
            "_model_module": "@jupyter-widgets/controls",
            "_model_module_version": "1.5.0",
            "_model_name": "DescriptionStyleModel",
            "_view_count": null,
            "_view_module": "@jupyter-widgets/base",
            "_view_module_version": "1.2.0",
            "_view_name": "StyleView",
            "description_width": ""
          }
        }
      }
    }
  },
  "nbformat": 4,
  "nbformat_minor": 0
}